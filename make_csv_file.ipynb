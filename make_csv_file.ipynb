{
 "cells": [
  {
   "cell_type": "code",
   "execution_count": 17,
   "metadata": {},
   "outputs": [],
   "source": [
    "import pandas as pd\n",
    "import numpy as np\n",
    "import os\n",
    "from datetime import datetime\n",
    "import random\n",
    "from scipy.optimize import minimize\n",
    "import plotly.express as px\n",
    "\n"
   ]
  },
  {
   "cell_type": "markdown",
   "metadata": {},
   "source": [
    "This loads the data for one device:"
   ]
  },
  {
   "cell_type": "code",
   "execution_count": 18,
   "metadata": {},
   "outputs": [
    {
     "name": "stderr",
     "output_type": "stream",
     "text": [
      "/var/folders/17/0pmhnn217_j5hjgb2g8942c00000gn/T/ipykernel_86842/247477889.py:12: FutureWarning:\n",
      "\n",
      "The behavior of DataFrame concatenation with empty or all-NA entries is deprecated. In a future version, this will no longer exclude empty or all-NA columns when determining the result dtypes. To retain the old behavior, exclude the relevant entries before the concat operation.\n",
      "\n"
     ]
    }
   ],
   "source": [
    "df = None\n",
    "directory = \"/Users/timruppert/Downloads/ev3_device_data_sample\"\n",
    "\n",
    "for filename in os.listdir(directory):\n",
    "    file_path = os.path.join(directory, filename)\n",
    "    if os.path.isfile(file_path) and file_path.endswith(\".csv\"):  # Ensure it's a file\n",
    "        df_ = pd.read_csv(file_path).sort_values(by=\"year_month_day\").reset_index(drop=True)\n",
    "        if df is None:\n",
    "            df = df_\n",
    "            \n",
    "        else:\n",
    "            df = pd.concat([df, df_])\n",
    "    \n"
   ]
  },
  {
   "cell_type": "markdown",
   "metadata": {},
   "source": [
    "The calculation of the DeltaT Benschmark is done by $\\displaystyle\\frac{\\Delta T}{\\Delta T_\\text{Setpoint}}$.\n",
    "\n",
    "Also, we calculate the total energy used (in kWh) by adding the Heating Energy to the Cooling Energy."
   ]
  },
  {
   "cell_type": "code",
   "execution_count": 19,
   "metadata": {},
   "outputs": [],
   "source": [
    "df = df.sort_values(by=\"year_month_day\")\n",
    "df = df.reset_index(drop=True)\n",
    "\n",
    "df['BENCHMARK_DELTA_T'] = (df['DeltaT_K']) / df['SpDeltaT_applied_K']\n",
    "df[\"total_energy_kWh\"] = (df[\"Heating_E_J\"] + df[\"Cooling_E_J\"]) / 3600000"
   ]
  },
  {
   "cell_type": "markdown",
   "metadata": {},
   "source": [
    "## Mock data Generation for indoor & outdoor temperature\n",
    "\n",
    "The given dataset didn't include indoor & outdoor temperature, but we will need it for further benchmarking. As these are timeseries that are available in real world use, we will generate randomized mock data. (Which still follows correct correlation patterns):"
   ]
  },
  {
   "cell_type": "code",
   "execution_count": 20,
   "metadata": {},
   "outputs": [],
   "source": [
    "prev_T_out = 273.15 + 20 + random.randint(-20, 20)/10\n",
    "prev_T_in = 273.15 + 21 + random.randint(-5, 5)/10\n",
    "prev_entry = df.index[0]\n",
    "for entry in df.index[1:]:\n",
    "    \n",
    "    format_string = '%Y-%m-%dT%H:%M:%S.%fZ'\n",
    "    dt = (datetime.strptime(df.loc[entry, \"sample_time\"], format_string) - datetime.strptime(df.loc[prev_entry, \"sample_time\"], format_string)).total_seconds()\n",
    "\n",
    "    T_out = prev_T_out + random.randint(-20, 20)/10\n",
    "    T_in = prev_T_in + 0.5*(T_out-prev_T_out)\n",
    "    df.loc[entry, \"T_in\"] = float(T_in)\n",
    "    df.loc[entry, \"T_out\"] = float(T_out)\n",
    "\n",
    "    T_in_prime = prev_T_in + 0.5*(T_out-prev_T_out)\n",
    "\n",
    "    df.loc[entry, \"T_in_prime\"] = float(T_in_prime)\n",
    "\n",
    "    prev_T_out = T_out\n",
    "    prev_T_in = T_in\n",
    "    prev_entry = entry\n"
   ]
  },
  {
   "cell_type": "markdown",
   "metadata": {},
   "source": [
    "## Temperature Equilibration Model and Insulation Score calculation\n",
    "\n",
    "We have the following discrete dynamical System to model the temperature equilibration:\n",
    "\n",
    "$\\displaystyle T_{in}(t)-T_{in}(t-1) = \\alpha\\cdot\\big(T_{set}(t)-T_{in}(t)\\big) + \\beta\\cdot\\big(T_{out}(t)- T_{in}(t)\\big)$\n",
    "\n",
    "using a scipy optimizer we can find the parameters $\\alpha$ and $\\beta$, which are the coupling constants between the indoor temperature and the Set temperature and the indoor temperature and the outdoor temperature. \n",
    "\n",
    "So we can interpret $\\beta$ beta as the wellness of the insulation."
   ]
  },
  {
   "cell_type": "code",
   "execution_count": 21,
   "metadata": {},
   "outputs": [],
   "source": [
    "def identify_parameters(f_prime, f, g, h):\n",
    "    \"\"\"\n",
    "    Identifies the parameters a and b for the equation:\n",
    "    f'(t) = a*(g(t)-f(t)) + b*(h(t)-f(t))\n",
    "    \n",
    "    Args:\n",
    "        f_prime (np.array): First derivative of f(t)\n",
    "        f (np.array): Time series f(t)\n",
    "        g (np.array): Time series g(t)\n",
    "        h (np.array): Time series h(t)\n",
    "    \n",
    "    Returns:\n",
    "        tuple: (a, b) - the identified parameters\n",
    "    \"\"\"\n",
    "\n",
    "    # Calculate differences for the model\n",
    "    dg = g - f  # g(t)-f(t)\n",
    "    dh = h - f  # h(t)-f(t)\n",
    "    \n",
    "    # Define objective function for optimization\n",
    "    def objective(params):\n",
    "        a, b = params\n",
    "        predicted = a * dg + b * dh\n",
    "        return np.sum((predicted - f_prime) ** 2)  # Sum of squared errors\n",
    "    \n",
    "    # Start optimization\n",
    "    result = minimize(objective, x0=[0.1, 0.1], method='Nelder-Mead')\n",
    "    \n",
    "    return result.x[1]"
   ]
  },
  {
   "cell_type": "markdown",
   "metadata": {},
   "source": [
    "Genrate the day samples:"
   ]
  },
  {
   "cell_type": "code",
   "execution_count": 22,
   "metadata": {},
   "outputs": [],
   "source": [
    "\n",
    "df[\"ID\"] = df.index\n",
    "lst = df.groupby('year_month_day').agg({'BENCHMARK_DELTA_T': 'mean', 'total_energy_kWh': lambda x: x.max() - x.min(), \"ID\": [\"min\", \"max\"]}).reset_index()"
   ]
  },
  {
   "cell_type": "code",
   "execution_count": 23,
   "metadata": {},
   "outputs": [],
   "source": [
    "n = 30\n",
    "\n",
    "for day in lst.index[n:]:\n",
    "    min_idx = lst.loc[day-n, (\"ID\", \"min\")]\n",
    "    max_idx = lst.loc[day, (\"ID\", \"max\")]\n",
    "    lst.loc[day, \"BENCHMARK_INSULATION\"] = identify_parameters(-df.loc[min_idx:max_idx, \"T_in_prime\"], df.loc[min_idx:max_idx, \"T_in\"], df.loc[min_idx:max_idx, \"T_out\"], [273.15 + 21 for _ in range(len(df.loc[min_idx:max_idx, \"T_in\"]))])\n",
    "\n",
    "lst = lst.sort_values(by=\"year_month_day\")\n",
    "\n"
   ]
  },
  {
   "cell_type": "markdown",
   "metadata": {},
   "source": [
    "Lastly, we compute the Energy Performance Index using an set floor area of the building."
   ]
  },
  {
   "cell_type": "code",
   "execution_count": 24,
   "metadata": {},
   "outputs": [],
   "source": [
    "A = 1000 # m2"
   ]
  },
  {
   "cell_type": "code",
   "execution_count": 25,
   "metadata": {},
   "outputs": [],
   "source": [
    "c = ((365*24 )/ A)\n"
   ]
  },
  {
   "cell_type": "code",
   "execution_count": 26,
   "metadata": {},
   "outputs": [
    {
     "data": {
      "text/plain": [
       "array([1.99489329e+01, 3.21780607e+02, 2.28165407e+02, 8.46807579e-04,\n",
       "       3.95878168e-02, 8.06914767e+01, 3.07221867e+01, 4.89282551e+01,\n",
       "       2.48179547e+01, 2.74652684e+01, 2.90618984e-02, 2.31894850e-02,\n",
       "       5.05636330e+00, 4.04512876e+01, 1.11281639e+02, 5.52975777e+01,\n",
       "       2.79631298e+01, 1.62031807e-02, 2.27239290e-02, 8.80454986e-02,\n",
       "       1.65235755e+01, 3.43065134e+01, 2.53437031e+01, 1.31560416e+01,\n",
       "       1.04042120e-02, 1.72437250e-02, 8.75505787e+00, 2.16454328e-02,\n",
       "       4.25779581e+01, 2.79108695e+01, 7.23214153e+01, 1.49074316e-02,\n",
       "       1.43453415e-02, 6.67859737e+01, 1.70028476e+01, 5.79982712e+01,\n",
       "       6.59380465e+01, 2.40830499e+01, 6.21347682e-03, 5.83601715e-03,\n",
       "       1.98468080e-02, 6.24859214e+01, 6.87794720e+01, 7.30383495e+01,\n",
       "       6.78814530e+01, 1.11044298e-02, 1.14212979e-02, 2.37470413e+01,\n",
       "       1.16920239e-02, 1.35222253e-02, 1.53623164e-02, 1.51429127e-02,\n",
       "       1.40487053e-02, 1.63215490e-02, 3.33971963e+01, 9.72302099e-01,\n",
       "       1.40578185e-02, 1.66085363e-02, 2.14212050e-02, 1.31101654e-02,\n",
       "       1.75214169e-02, 1.72465927e+01, 1.70780695e-02, 1.60472185e-02,\n",
       "       1.88576891e-02, 2.18096840e+01, 7.44579516e-03, 1.16913677e-02,\n",
       "       5.91675754e+01, 3.74265193e+01, 2.27369413e+01, 2.85936724e+01,\n",
       "       2.18002292e+01, 1.00838268e-02, 5.47278344e-03, 1.53947437e+01,\n",
       "       3.73001832e-01, 1.22566282e-02, 5.46164450e-02, 8.29906244e-03,\n",
       "       6.81213547e-03, 8.05574918e-03, 1.40396894e-02, 1.27413876e-02,\n",
       "       1.10429914e-02, 9.10487241e-03, 9.62610397e-03, 6.96058889e-03,\n",
       "       6.31981294e-03, 1.94143123e-02, 1.29131359e-02, 9.86619806e-03,\n",
       "       1.34151859e-02, 1.02807452e-02, 1.35836497e-02, 8.72759120e-03,\n",
       "       1.35756547e-02, 2.31007087e-01, 8.28233205e-03, 1.16938335e-02,\n",
       "       1.16333419e-02, 1.14794988e-02, 1.34939898e-02, 2.54790847e-01,\n",
       "       9.45908625e-03, 1.34483830e-02, 1.57701181e-02, 9.17740462e-03,\n",
       "       9.54166021e-03, 1.17726777e-02, 3.32187360e-01, 1.02191725e-02,\n",
       "       7.64214801e-03, 8.35153143e-03, 1.29084445e-02, 9.40613888e-03,\n",
       "       8.55300171e-03, 1.12032596e-02, 9.01360623e-03, 1.31482101e-02,\n",
       "       8.30942473e-03, 8.70321430e-03, 8.20384243e-03, 6.12573963e-03,\n",
       "       9.42599219e-03, 4.48033773e-02, 6.33586616e-01, 4.60716987e-01,\n",
       "       1.42747954e-02, 1.09431707e-02, 1.16405419e-02, 1.18245939e-02,\n",
       "       1.06496242e-02, 1.17679188e-02, 1.02148745e-02, 7.31220451e-03,\n",
       "       1.56085897e-02, 9.35999533e-03, 7.32578721e-03, 9.97718851e-03,\n",
       "       1.07538081e-02, 9.50203308e-03, 1.05981710e-02, 7.61655926e-03,\n",
       "       9.69221796e-03, 1.21457490e-02, 1.95035468e-02, 1.52303819e-02,\n",
       "       1.20892144e-02, 9.71691851e-03, 2.54053353e-02, 3.65190044e-02,\n",
       "       1.65473894e-02, 1.56066372e-02, 1.28628531e-02, 1.05261909e-02,\n",
       "       1.54601994e-02, 6.56121495e-03, 1.87022593e-02, 1.67338604e-02,\n",
       "       1.21620093e-02, 1.60028843e-02, 1.87492812e-02, 8.42929684e-03,\n",
       "       8.24408199e-03, 8.91231501e-03, 7.00036018e-03, 8.76872358e-03,\n",
       "       7.53919098e-03, 6.45375382e-03, 6.33636617e-03, 7.73148911e-03,\n",
       "       8.82514710e-03, 9.55306724e-03, 6.38647427e-03, 7.98304989e-03,\n",
       "       6.14821569e-03, 2.90704390e+01, 1.25368050e-02, 1.98534654e-02,\n",
       "       2.01395601e+02, 7.82335174e-01, 8.18217757e+01, 5.16590472e+01,\n",
       "       4.68363318e+01, 1.30743911e-02, 1.86372344e-02, 4.64694233e+01,\n",
       "       5.63253906e+01, 5.46284291e+01, 7.04010997e+01, 5.31033938e+01,\n",
       "       8.36496888e-03, 1.12707697e-02, 1.49701897e+02, 1.61068097e+02,\n",
       "       1.74326417e+02, 1.73620652e+02, 1.23942578e+02, 6.65201061e-03,\n",
       "       1.40424723e-02, 1.94576501e+02, 1.54850645e+02, 3.74235824e+01,\n",
       "       2.70349766e+01, 2.24171605e+01, 1.09101930e-02, 1.65209498e-02,\n",
       "       7.34240689e+01, 1.16801939e+02, 8.89709460e+01, 6.87401191e+01,\n",
       "       5.87979043e+01, 1.69563216e-02, 1.46308192e-02, 1.46609651e-02,\n",
       "       5.71778208e-03, 2.99548437e+02, 3.20584483e+02, 8.87194406e+01,\n",
       "       1.28108871e-02, 1.18569870e-02, 1.69694416e+02, 1.58328007e+02,\n",
       "       1.96791130e+02, 1.31700736e+02, 1.28237991e+02, 1.58527568e-02,\n",
       "       2.16227496e-02, 5.51024125e+01, 8.24845567e+01, 1.19409560e+02,\n",
       "       1.00823545e+02, 1.98714768e+02, 1.07013085e-02, 1.17179176e-02,\n",
       "       3.86543561e+02, 4.81225973e+02, 5.28794669e+02, 5.47763441e+02,\n",
       "       5.88374131e+02, 6.85889991e-06, 0.00000000e+00, 7.52108043e+02,\n",
       "       6.96685715e+02, 6.57451376e+02, 6.38016443e+02, 6.44861962e+02,\n",
       "       0.00000000e+00, 0.00000000e+00, 6.57205473e+02, 6.89066436e+02,\n",
       "       6.71540817e+02, 6.37423603e+02, 7.28519177e+02, 0.00000000e+00,\n",
       "       1.48896053e-04, 6.72354635e+02, 4.72059703e+02, 4.93946376e+02,\n",
       "       4.40310506e+02, 4.33406914e+02, 0.00000000e+00, 6.01090757e-03,\n",
       "       6.46867872e+02, 3.47033200e+02, 3.86047971e+02, 4.87137771e+02,\n",
       "       6.99264935e-04, 1.29542977e-02, 3.48292781e-04, 3.99666662e-04,\n",
       "       1.69962535e-04, 1.80073261e-05, 2.59077885e-04, 2.26533102e+01,\n",
       "       1.25232533e+02, 2.23794913e+02, 1.57038339e+03, 9.12080983e+02,\n",
       "       7.69666647e+02, 7.17442624e+02, 6.53179869e+02, 4.57553397e-03,\n",
       "       6.11899243e-03, 1.03898583e+03, 9.78536420e+02, 7.62433120e+02,\n",
       "       7.15584094e+02, 7.83193647e+02, 0.00000000e+00, 0.00000000e+00,\n",
       "       9.56373002e+02, 8.71420995e+02, 7.51409595e+02, 5.50867404e+02,\n",
       "       4.59462961e+02, 4.55270104e-04, 5.23649135e-03, 9.27835737e+02,\n",
       "       8.55786554e+02, 9.21682884e+02, 6.99221969e+02, 5.06679153e+02,\n",
       "       1.68746651e-03, 0.00000000e+00, 6.65424756e+02, 4.99327049e+02,\n",
       "       3.47505293e+02, 3.27367624e+02, 3.45846675e+02, 0.00000000e+00,\n",
       "       0.00000000e+00, 6.33374024e+02, 6.27258375e+02, 6.64488894e+02,\n",
       "       9.02473641e+02, 1.05789891e+03, 1.06242126e-03, 1.16469649e-02,\n",
       "       1.27900274e+03, 7.20013713e+02, 4.37291522e+02, 5.98843676e+02,\n",
       "       3.55712772e+02, 1.28540134e-02, 1.89168375e-02, 2.52280044e+02,\n",
       "       2.22884068e+02, 1.79740610e+02, 1.26998235e+02, 7.50324777e+01,\n",
       "       1.48663484e-04, 6.61507932e-03, 3.98172003e+02, 1.99052558e+02,\n",
       "       1.42940694e+02, 1.12038285e+02, 2.43882234e+02, 5.30670376e-04,\n",
       "       6.23663729e-03, 3.46581583e+02, 3.41947461e+02, 2.11640122e+02,\n",
       "       9.67376201e+01, 1.61455527e+02, 7.11645857e-03, 0.00000000e+00,\n",
       "       5.78049829e+02, 5.39945784e+02, 5.34490741e+02, 5.68041881e+02,\n",
       "       5.38350800e+02, 3.55227123e-03, 0.00000000e+00, 5.85039764e+02,\n",
       "       4.20493435e+02, 3.38270480e+02, 2.35186487e+02, 1.84210304e+02,\n",
       "       1.56850822e-04, 1.42860816e-02, 2.41883556e+02, 7.27172240e+01,\n",
       "       4.75504325e+01, 1.86710994e+01, 9.35158751e+00, 1.02506142e-02,\n",
       "       1.93931927e-02, 1.23270894e+02, 5.22748491e+02, 5.89136507e+02,\n",
       "       4.82100087e+02, 2.59805828e+02, 5.90409839e-03, 2.01837608e-02,\n",
       "       1.98448971e+02, 3.86532388e+02, 3.63852211e+02, 3.41396754e+02,\n",
       "       3.17290673e+02, 6.00606217e-03, 8.41833239e-03, 2.10778796e+02,\n",
       "       1.20952912e+02, 8.19606902e+01, 4.91127002e+01, 6.61876213e+01,\n",
       "       1.28533650e-02, 1.26176060e-02, 1.40267043e+01, 9.23122664e-03,\n",
       "       1.42049977e-02, 1.06710212e-02, 1.87658439e-02, 4.21932190e-03,\n",
       "       6.25815900e-03, 1.16370478e+02, 6.20387688e+01, 3.42167167e+01,\n",
       "       7.06517344e+01, 8.95370666e+01, 7.67213473e-03, 6.75881014e-03,\n",
       "       6.20565954e-03, 2.02611484e-02, 1.47800411e+01, 3.32243903e+01,\n",
       "       6.60057927e+01, 1.48509789e-02, 2.18017141e-02, 7.00146586e+01,\n",
       "       6.06359116e+01, 5.82807113e+01, 6.93011292e+01, 3.74407359e+01,\n",
       "       1.03200077e-02, 1.71657490e-02, 4.69613794e+01, 6.11792829e+01,\n",
       "       4.50242783e+01, 3.28523630e+01, 4.79137795e+01, 1.36547481e-02,\n",
       "       1.77119639e-02, 1.47335156e-02, 1.30387544e-02, 1.04252431e-02,\n",
       "       1.19738766e-02, 1.45924178e-02, 1.37459423e-02, 2.11664071e-02,\n",
       "       1.17783694e-02, 6.43873295e-03, 7.11785763e-03, 7.47835231e-03,\n",
       "       7.56586892e-03, 6.96209972e-03, 8.40104543e-03, 1.12555065e-02,\n",
       "       1.69933910e-02, 1.80719186e-02, 1.17625589e-02, 5.94877999e-03,\n",
       "       5.28183176e-03, 5.54811641e-03, 8.74949487e-03, 7.32387754e-03,\n",
       "       7.10849320e-03, 1.06438955e-02, 6.40019513e-03, 7.53256562e-03,\n",
       "       7.83305569e-03, 5.03312540e-03, 3.86834681e-03, 6.21453924e-03,\n",
       "       6.45196331e-03, 5.02640374e+00, 5.45013763e-03, 3.90960427e-03,\n",
       "       5.56287864e-01, 3.90983223e-03, 6.45971209e-01, 6.22134360e-01,\n",
       "       6.59815645e-01, 9.51740908e-03, 5.24784039e-03, 4.92482063e-03,\n",
       "       4.85938327e-03, 2.30256431e+00, 4.29357020e+00, 4.62431775e+00,\n",
       "       5.60963918e-03, 4.42481034e-03, 3.51894216e-01, 2.78691437e-03,\n",
       "       4.80601888e-03, 4.36691028e-03, 5.36027171e-03, 2.72430958e-03,\n",
       "       2.82518693e-03, 5.56961646e-03, 3.74112634e-03, 3.78208960e-03,\n",
       "       3.83673027e-03, 4.45568705e-03, 2.99566042e-03, 4.77780640e-03,\n",
       "       4.41740447e-03, 2.97786105e-03, 4.55522691e-03, 1.92728097e+00,\n",
       "       1.45836257e+00, 2.84345321e-03, 5.10839103e-03, 8.52354750e-01,\n",
       "       1.08820260e-01, 6.20141070e-03, 4.10462297e-03, 2.48949253e-03,\n",
       "       2.69455918e-03, 8.92632795e-03, 3.84881152e-03, 4.83534166e-03,\n",
       "       4.37779497e-03, 3.26880921e-03, 3.76288909e-03, 4.35235991e-03,\n",
       "       5.20129486e-03, 1.40097522e-02, 4.23089408e-03, 3.74956667e-03,\n",
       "       1.23831130e+00, 2.63523577e+00, 6.63543478e-03, 9.09684040e-03,\n",
       "       5.05061229e-01, 1.02016061e+00, 1.02382305e+00, 6.44195570e+01,\n",
       "       1.13054689e+01, 2.94833209e-02, 3.45195297e-02, 3.97084933e-02,\n",
       "       1.81962026e-02, 1.86532918e-02, 1.05071307e-02, 1.41117045e-02,\n",
       "       1.78903095e-02, 3.57407298e-02, 2.95941424e-02, 1.80321775e-02,\n",
       "       1.41027340e-02, 1.54221400e-02, 2.32335994e-02, 4.28738891e-02,\n",
       "       3.71146577e-02, 4.14427581e-02, 4.47548073e-02, 5.46725215e-02,\n",
       "       4.36331343e-02, 6.12925409e-02, 7.27024005e-02, 4.80550715e-02,\n",
       "       5.00980926e-02, 5.52619867e-02, 5.02480923e-02, 6.76860691e-02,\n",
       "       9.16726639e-02, 4.67179577e-02, 4.60518639e-02, 9.85552151e-02,\n",
       "       1.01834074e-01, 1.16982561e-01, 1.06777968e-01, 1.08580366e+02,\n",
       "       3.49975236e-02, 5.99261383e-02, 6.18762633e+02, 3.03347278e+02,\n",
       "       2.57325836e+02, 4.08470129e+02, 3.56352132e+02, 3.98505833e-02,\n",
       "       4.74580309e-02, 2.56019425e+02, 1.29557120e+02, 1.01463352e+02,\n",
       "       1.18491090e+01, 1.01557995e+02, 3.08705756e-02, 2.83355959e-02,\n",
       "       3.10340151e+02, 1.82268294e+02, 3.03230553e+02, 2.57342195e+02,\n",
       "       2.41514069e+02, 6.10049155e-03, 1.20929121e-02, 9.91255991e+01,\n",
       "       1.04426915e+02, 2.24141596e+02, 1.20380162e+02, 2.13476656e+02,\n",
       "       9.71964151e-03, 1.70571122e-02, 3.42728038e+02, 3.74123433e+02,\n",
       "       3.33478710e+02, 2.99111389e+02, 3.43541545e+02, 4.01358750e-03,\n",
       "       4.72680524e-03, 4.40965267e+02, 4.13047208e+02, 4.51728224e+02,\n",
       "       4.00148241e+02, 5.53341453e+02, 0.00000000e+00, 5.09829574e-03,\n",
       "       6.94659748e+02, 5.87697905e+02, 4.95794426e+02, 5.70857347e+02,\n",
       "       6.44380151e+02, 5.64587861e-05, 0.00000000e+00, 9.78920847e+02,\n",
       "       8.68048393e+02, 7.02485075e+02, 6.36238613e+02, 7.35982867e+02,\n",
       "       6.44548327e-05, 1.60608866e-04, 8.68547508e+02, 6.19877662e+02,\n",
       "       6.07789960e+02, 6.36383521e+02, 7.23102311e+02, 2.86413517e-06,\n",
       "       4.88298827e-05, 6.72711090e+02, 6.24848926e+02, 6.47685402e+02,\n",
       "       6.18161399e+02, 6.69412779e+02, 5.82905511e-03, 0.00000000e+00,\n",
       "       8.56202941e+02, 7.16774564e+02, 7.16547424e+02, 6.90219190e+02,\n",
       "       5.88977855e+02, 3.63436948e-04, 0.00000000e+00, 1.22571141e-04,\n",
       "       1.22364320e-03, 2.51977719e-04, 1.13107029e-02, 1.38886859e-02])"
      ]
     },
     "execution_count": 26,
     "metadata": {},
     "output_type": "execute_result"
    }
   ],
   "source": [
    "a = lst[\"total_energy_kWh\"]*c\n",
    "\n",
    "a = a.to_numpy().T[0]\n",
    "a"
   ]
  },
  {
   "cell_type": "code",
   "execution_count": 27,
   "metadata": {},
   "outputs": [
    {
     "data": {
      "text/html": [
       "<div>\n",
       "<style scoped>\n",
       "    .dataframe tbody tr th:only-of-type {\n",
       "        vertical-align: middle;\n",
       "    }\n",
       "\n",
       "    .dataframe tbody tr th {\n",
       "        vertical-align: top;\n",
       "    }\n",
       "\n",
       "    .dataframe thead th {\n",
       "        text-align: right;\n",
       "    }\n",
       "</style>\n",
       "<table border=\"1\" class=\"dataframe\">\n",
       "  <thead>\n",
       "    <tr style=\"text-align: right;\">\n",
       "      <th></th>\n",
       "      <th>year_month_day</th>\n",
       "      <th>BENCHMARK_DELTA_T</th>\n",
       "      <th>BENCHMARK_EPI</th>\n",
       "      <th>BENCHMARK_INSULATION</th>\n",
       "    </tr>\n",
       "  </thead>\n",
       "  <tbody>\n",
       "    <tr>\n",
       "      <th>0</th>\n",
       "      <td>20200401</td>\n",
       "      <td>0.683374</td>\n",
       "      <td>19.948933</td>\n",
       "      <td>NaN</td>\n",
       "    </tr>\n",
       "    <tr>\n",
       "      <th>1</th>\n",
       "      <td>20200402</td>\n",
       "      <td>0.740721</td>\n",
       "      <td>321.780607</td>\n",
       "      <td>NaN</td>\n",
       "    </tr>\n",
       "    <tr>\n",
       "      <th>2</th>\n",
       "      <td>20200403</td>\n",
       "      <td>0.530163</td>\n",
       "      <td>228.165407</td>\n",
       "      <td>NaN</td>\n",
       "    </tr>\n",
       "    <tr>\n",
       "      <th>3</th>\n",
       "      <td>20200404</td>\n",
       "      <td>0.104082</td>\n",
       "      <td>0.000847</td>\n",
       "      <td>NaN</td>\n",
       "    </tr>\n",
       "    <tr>\n",
       "      <th>4</th>\n",
       "      <td>20200405</td>\n",
       "      <td>0.124728</td>\n",
       "      <td>0.039588</td>\n",
       "      <td>NaN</td>\n",
       "    </tr>\n",
       "    <tr>\n",
       "      <th>...</th>\n",
       "      <td>...</td>\n",
       "      <td>...</td>\n",
       "      <td>...</td>\n",
       "      <td>...</td>\n",
       "    </tr>\n",
       "    <tr>\n",
       "      <th>635</th>\n",
       "      <td>20211227</td>\n",
       "      <td>0.122020</td>\n",
       "      <td>0.000123</td>\n",
       "      <td>-2940.499983</td>\n",
       "    </tr>\n",
       "    <tr>\n",
       "      <th>636</th>\n",
       "      <td>20211228</td>\n",
       "      <td>0.123328</td>\n",
       "      <td>0.001224</td>\n",
       "      <td>-2940.500023</td>\n",
       "    </tr>\n",
       "    <tr>\n",
       "      <th>637</th>\n",
       "      <td>20211229</td>\n",
       "      <td>0.118200</td>\n",
       "      <td>0.000252</td>\n",
       "      <td>-2940.499979</td>\n",
       "    </tr>\n",
       "    <tr>\n",
       "      <th>638</th>\n",
       "      <td>20211230</td>\n",
       "      <td>0.121759</td>\n",
       "      <td>0.011311</td>\n",
       "      <td>-2940.500032</td>\n",
       "    </tr>\n",
       "    <tr>\n",
       "      <th>639</th>\n",
       "      <td>20211231</td>\n",
       "      <td>0.118456</td>\n",
       "      <td>0.013889</td>\n",
       "      <td>-2940.499984</td>\n",
       "    </tr>\n",
       "  </tbody>\n",
       "</table>\n",
       "<p>640 rows × 4 columns</p>\n",
       "</div>"
      ],
      "text/plain": [
       "     year_month_day  BENCHMARK_DELTA_T  BENCHMARK_EPI  BENCHMARK_INSULATION\n",
       "0          20200401           0.683374      19.948933                   NaN\n",
       "1          20200402           0.740721     321.780607                   NaN\n",
       "2          20200403           0.530163     228.165407                   NaN\n",
       "3          20200404           0.104082       0.000847                   NaN\n",
       "4          20200405           0.124728       0.039588                   NaN\n",
       "..              ...                ...            ...                   ...\n",
       "635        20211227           0.122020       0.000123          -2940.499983\n",
       "636        20211228           0.123328       0.001224          -2940.500023\n",
       "637        20211229           0.118200       0.000252          -2940.499979\n",
       "638        20211230           0.121759       0.011311          -2940.500032\n",
       "639        20211231           0.118456       0.013889          -2940.499984\n",
       "\n",
       "[640 rows x 4 columns]"
      ]
     },
     "execution_count": 27,
     "metadata": {},
     "output_type": "execute_result"
    }
   ],
   "source": [
    "\n",
    "\n",
    "data = pd.DataFrame(data={\n",
    "    \"year_month_day\":lst[\"year_month_day\"],\n",
    "    \"BENCHMARK_DELTA_T\":lst[(\"BENCHMARK_DELTA_T\", \"mean\")],\n",
    "    \"BENCHMARK_EPI\":a,\n",
    "    \"BENCHMARK_INSULATION\":lst[(\"BENCHMARK_INSULATION\")]\n",
    "})\n",
    "data\n"
   ]
  },
  {
   "cell_type": "code",
   "execution_count": 28,
   "metadata": {},
   "outputs": [
    {
     "data": {
      "application/vnd.plotly.v1+json": {
       "config": {
        "plotlyServerURL": "https://plot.ly"
       },
       "data": [
        {
         "hovertemplate": "index=%{x}<br>BENCHMARK_DELTA_T=%{y}<extra></extra>",
         "legendgroup": "",
         "line": {
          "color": "#636efa",
          "dash": "solid"
         },
         "marker": {
          "symbol": "circle"
         },
         "mode": "lines",
         "name": "",
         "orientation": "v",
         "showlegend": false,
         "type": "scatter",
         "x": {
          "bdata": "AAABAAIAAwAEAAUABgAHAAgACQAKAAsADAANAA4ADwAQABEAEgATABQAFQAWABcAGAAZABoAGwAcAB0AHgAfACAAIQAiACMAJAAlACYAJwAoACkAKgArACwALQAuAC8AMAAxADIAMwA0ADUANgA3ADgAOQA6ADsAPAA9AD4APwBAAEEAQgBDAEQARQBGAEcASABJAEoASwBMAE0ATgBPAFAAUQBSAFMAVABVAFYAVwBYAFkAWgBbAFwAXQBeAF8AYABhAGIAYwBkAGUAZgBnAGgAaQBqAGsAbABtAG4AbwBwAHEAcgBzAHQAdQB2AHcAeAB5AHoAewB8AH0AfgB/AIAAgQCCAIMAhACFAIYAhwCIAIkAigCLAIwAjQCOAI8AkACRAJIAkwCUAJUAlgCXAJgAmQCaAJsAnACdAJ4AnwCgAKEAogCjAKQApQCmAKcAqACpAKoAqwCsAK0ArgCvALAAsQCyALMAtAC1ALYAtwC4ALkAugC7ALwAvQC+AL8AwADBAMIAwwDEAMUAxgDHAMgAyQDKAMsAzADNAM4AzwDQANEA0gDTANQA1QDWANcA2ADZANoA2wDcAN0A3gDfAOAA4QDiAOMA5ADlAOYA5wDoAOkA6gDrAOwA7QDuAO8A8ADxAPIA8wD0APUA9gD3APgA+QD6APsA/AD9AP4A/wAAAQEBAgEDAQQBBQEGAQcBCAEJAQoBCwEMAQ0BDgEPARABEQESARMBFAEVARYBFwEYARkBGgEbARwBHQEeAR8BIAEhASIBIwEkASUBJgEnASgBKQEqASsBLAEtAS4BLwEwATEBMgEzATQBNQE2ATcBOAE5AToBOwE8AT0BPgE/AUABQQFCAUMBRAFFAUYBRwFIAUkBSgFLAUwBTQFOAU8BUAFRAVIBUwFUAVUBVgFXAVgBWQFaAVsBXAFdAV4BXwFgAWEBYgFjAWQBZQFmAWcBaAFpAWoBawFsAW0BbgFvAXABcQFyAXMBdAF1AXYBdwF4AXkBegF7AXwBfQF+AX8BgAGBAYIBgwGEAYUBhgGHAYgBiQGKAYsBjAGNAY4BjwGQAZEBkgGTAZQBlQGWAZcBmAGZAZoBmwGcAZ0BngGfAaABoQGiAaMBpAGlAaYBpwGoAakBqgGrAawBrQGuAa8BsAGxAbIBswG0AbUBtgG3AbgBuQG6AbsBvAG9Ab4BvwHAAcEBwgHDAcQBxQHGAccByAHJAcoBywHMAc0BzgHPAdAB0QHSAdMB1AHVAdYB1wHYAdkB2gHbAdwB3QHeAd8B4AHhAeIB4wHkAeUB5gHnAegB6QHqAesB7AHtAe4B7wHwAfEB8gHzAfQB9QH2AfcB+AH5AfoB+wH8Af0B/gH/AQACAQICAgMCBAIFAgYCBwIIAgkCCgILAgwCDQIOAg8CEAIRAhICEwIUAhUCFgIXAhgCGQIaAhsCHAIdAh4CHwIgAiECIgIjAiQCJQImAicCKAIpAioCKwIsAi0CLgIvAjACMQIyAjMCNAI1AjYCNwI4AjkCOgI7AjwCPQI+Aj8CQAJBAkICQwJEAkUCRgJHAkgCSQJKAksCTAJNAk4CTwJQAlECUgJTAlQCVQJWAlcCWAJZAloCWwJcAl0CXgJfAmACYQJiAmMCZAJlAmYCZwJoAmkCagJrAmwCbQJuAm8CcAJxAnICcwJ0AnUCdgJ3AngCeQJ6AnsCfAJ9An4CfwI=",
          "dtype": "i2"
         },
         "xaxis": "x",
         "y": {
          "bdata": "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",
          "dtype": "f8"
         },
         "yaxis": "y"
        }
       ],
       "layout": {
        "legend": {
         "tracegroupgap": 0
        },
        "template": {
         "data": {
          "bar": [
           {
            "error_x": {
             "color": "#2a3f5f"
            },
            "error_y": {
             "color": "#2a3f5f"
            },
            "marker": {
             "line": {
              "color": "#E5ECF6",
              "width": 0.5
             },
             "pattern": {
              "fillmode": "overlay",
              "size": 10,
              "solidity": 0.2
             }
            },
            "type": "bar"
           }
          ],
          "barpolar": [
           {
            "marker": {
             "line": {
              "color": "#E5ECF6",
              "width": 0.5
             },
             "pattern": {
              "fillmode": "overlay",
              "size": 10,
              "solidity": 0.2
             }
            },
            "type": "barpolar"
           }
          ],
          "carpet": [
           {
            "aaxis": {
             "endlinecolor": "#2a3f5f",
             "gridcolor": "white",
             "linecolor": "white",
             "minorgridcolor": "white",
             "startlinecolor": "#2a3f5f"
            },
            "baxis": {
             "endlinecolor": "#2a3f5f",
             "gridcolor": "white",
             "linecolor": "white",
             "minorgridcolor": "white",
             "startlinecolor": "#2a3f5f"
            },
            "type": "carpet"
           }
          ],
          "choropleth": [
           {
            "colorbar": {
             "outlinewidth": 0,
             "ticks": ""
            },
            "type": "choropleth"
           }
          ],
          "contour": [
           {
            "colorbar": {
             "outlinewidth": 0,
             "ticks": ""
            },
            "colorscale": [
             [
              0,
              "#0d0887"
             ],
             [
              0.1111111111111111,
              "#46039f"
             ],
             [
              0.2222222222222222,
              "#7201a8"
             ],
             [
              0.3333333333333333,
              "#9c179e"
             ],
             [
              0.4444444444444444,
              "#bd3786"
             ],
             [
              0.5555555555555556,
              "#d8576b"
             ],
             [
              0.6666666666666666,
              "#ed7953"
             ],
             [
              0.7777777777777778,
              "#fb9f3a"
             ],
             [
              0.8888888888888888,
              "#fdca26"
             ],
             [
              1,
              "#f0f921"
             ]
            ],
            "type": "contour"
           }
          ],
          "contourcarpet": [
           {
            "colorbar": {
             "outlinewidth": 0,
             "ticks": ""
            },
            "type": "contourcarpet"
           }
          ],
          "heatmap": [
           {
            "colorbar": {
             "outlinewidth": 0,
             "ticks": ""
            },
            "colorscale": [
             [
              0,
              "#0d0887"
             ],
             [
              0.1111111111111111,
              "#46039f"
             ],
             [
              0.2222222222222222,
              "#7201a8"
             ],
             [
              0.3333333333333333,
              "#9c179e"
             ],
             [
              0.4444444444444444,
              "#bd3786"
             ],
             [
              0.5555555555555556,
              "#d8576b"
             ],
             [
              0.6666666666666666,
              "#ed7953"
             ],
             [
              0.7777777777777778,
              "#fb9f3a"
             ],
             [
              0.8888888888888888,
              "#fdca26"
             ],
             [
              1,
              "#f0f921"
             ]
            ],
            "type": "heatmap"
           }
          ],
          "histogram": [
           {
            "marker": {
             "pattern": {
              "fillmode": "overlay",
              "size": 10,
              "solidity": 0.2
             }
            },
            "type": "histogram"
           }
          ],
          "histogram2d": [
           {
            "colorbar": {
             "outlinewidth": 0,
             "ticks": ""
            },
            "colorscale": [
             [
              0,
              "#0d0887"
             ],
             [
              0.1111111111111111,
              "#46039f"
             ],
             [
              0.2222222222222222,
              "#7201a8"
             ],
             [
              0.3333333333333333,
              "#9c179e"
             ],
             [
              0.4444444444444444,
              "#bd3786"
             ],
             [
              0.5555555555555556,
              "#d8576b"
             ],
             [
              0.6666666666666666,
              "#ed7953"
             ],
             [
              0.7777777777777778,
              "#fb9f3a"
             ],
             [
              0.8888888888888888,
              "#fdca26"
             ],
             [
              1,
              "#f0f921"
             ]
            ],
            "type": "histogram2d"
           }
          ],
          "histogram2dcontour": [
           {
            "colorbar": {
             "outlinewidth": 0,
             "ticks": ""
            },
            "colorscale": [
             [
              0,
              "#0d0887"
             ],
             [
              0.1111111111111111,
              "#46039f"
             ],
             [
              0.2222222222222222,
              "#7201a8"
             ],
             [
              0.3333333333333333,
              "#9c179e"
             ],
             [
              0.4444444444444444,
              "#bd3786"
             ],
             [
              0.5555555555555556,
              "#d8576b"
             ],
             [
              0.6666666666666666,
              "#ed7953"
             ],
             [
              0.7777777777777778,
              "#fb9f3a"
             ],
             [
              0.8888888888888888,
              "#fdca26"
             ],
             [
              1,
              "#f0f921"
             ]
            ],
            "type": "histogram2dcontour"
           }
          ],
          "mesh3d": [
           {
            "colorbar": {
             "outlinewidth": 0,
             "ticks": ""
            },
            "type": "mesh3d"
           }
          ],
          "parcoords": [
           {
            "line": {
             "colorbar": {
              "outlinewidth": 0,
              "ticks": ""
             }
            },
            "type": "parcoords"
           }
          ],
          "pie": [
           {
            "automargin": true,
            "type": "pie"
           }
          ],
          "scatter": [
           {
            "fillpattern": {
             "fillmode": "overlay",
             "size": 10,
             "solidity": 0.2
            },
            "type": "scatter"
           }
          ],
          "scatter3d": [
           {
            "line": {
             "colorbar": {
              "outlinewidth": 0,
              "ticks": ""
             }
            },
            "marker": {
             "colorbar": {
              "outlinewidth": 0,
              "ticks": ""
             }
            },
            "type": "scatter3d"
           }
          ],
          "scattercarpet": [
           {
            "marker": {
             "colorbar": {
              "outlinewidth": 0,
              "ticks": ""
             }
            },
            "type": "scattercarpet"
           }
          ],
          "scattergeo": [
           {
            "marker": {
             "colorbar": {
              "outlinewidth": 0,
              "ticks": ""
             }
            },
            "type": "scattergeo"
           }
          ],
          "scattergl": [
           {
            "marker": {
             "colorbar": {
              "outlinewidth": 0,
              "ticks": ""
             }
            },
            "type": "scattergl"
           }
          ],
          "scattermap": [
           {
            "marker": {
             "colorbar": {
              "outlinewidth": 0,
              "ticks": ""
             }
            },
            "type": "scattermap"
           }
          ],
          "scattermapbox": [
           {
            "marker": {
             "colorbar": {
              "outlinewidth": 0,
              "ticks": ""
             }
            },
            "type": "scattermapbox"
           }
          ],
          "scatterpolar": [
           {
            "marker": {
             "colorbar": {
              "outlinewidth": 0,
              "ticks": ""
             }
            },
            "type": "scatterpolar"
           }
          ],
          "scatterpolargl": [
           {
            "marker": {
             "colorbar": {
              "outlinewidth": 0,
              "ticks": ""
             }
            },
            "type": "scatterpolargl"
           }
          ],
          "scatterternary": [
           {
            "marker": {
             "colorbar": {
              "outlinewidth": 0,
              "ticks": ""
             }
            },
            "type": "scatterternary"
           }
          ],
          "surface": [
           {
            "colorbar": {
             "outlinewidth": 0,
             "ticks": ""
            },
            "colorscale": [
             [
              0,
              "#0d0887"
             ],
             [
              0.1111111111111111,
              "#46039f"
             ],
             [
              0.2222222222222222,
              "#7201a8"
             ],
             [
              0.3333333333333333,
              "#9c179e"
             ],
             [
              0.4444444444444444,
              "#bd3786"
             ],
             [
              0.5555555555555556,
              "#d8576b"
             ],
             [
              0.6666666666666666,
              "#ed7953"
             ],
             [
              0.7777777777777778,
              "#fb9f3a"
             ],
             [
              0.8888888888888888,
              "#fdca26"
             ],
             [
              1,
              "#f0f921"
             ]
            ],
            "type": "surface"
           }
          ],
          "table": [
           {
            "cells": {
             "fill": {
              "color": "#EBF0F8"
             },
             "line": {
              "color": "white"
             }
            },
            "header": {
             "fill": {
              "color": "#C8D4E3"
             },
             "line": {
              "color": "white"
             }
            },
            "type": "table"
           }
          ]
         },
         "layout": {
          "annotationdefaults": {
           "arrowcolor": "#2a3f5f",
           "arrowhead": 0,
           "arrowwidth": 1
          },
          "autotypenumbers": "strict",
          "coloraxis": {
           "colorbar": {
            "outlinewidth": 0,
            "ticks": ""
           }
          },
          "colorscale": {
           "diverging": [
            [
             0,
             "#8e0152"
            ],
            [
             0.1,
             "#c51b7d"
            ],
            [
             0.2,
             "#de77ae"
            ],
            [
             0.3,
             "#f1b6da"
            ],
            [
             0.4,
             "#fde0ef"
            ],
            [
             0.5,
             "#f7f7f7"
            ],
            [
             0.6,
             "#e6f5d0"
            ],
            [
             0.7,
             "#b8e186"
            ],
            [
             0.8,
             "#7fbc41"
            ],
            [
             0.9,
             "#4d9221"
            ],
            [
             1,
             "#276419"
            ]
           ],
           "sequential": [
            [
             0,
             "#0d0887"
            ],
            [
             0.1111111111111111,
             "#46039f"
            ],
            [
             0.2222222222222222,
             "#7201a8"
            ],
            [
             0.3333333333333333,
             "#9c179e"
            ],
            [
             0.4444444444444444,
             "#bd3786"
            ],
            [
             0.5555555555555556,
             "#d8576b"
            ],
            [
             0.6666666666666666,
             "#ed7953"
            ],
            [
             0.7777777777777778,
             "#fb9f3a"
            ],
            [
             0.8888888888888888,
             "#fdca26"
            ],
            [
             1,
             "#f0f921"
            ]
           ],
           "sequentialminus": [
            [
             0,
             "#0d0887"
            ],
            [
             0.1111111111111111,
             "#46039f"
            ],
            [
             0.2222222222222222,
             "#7201a8"
            ],
            [
             0.3333333333333333,
             "#9c179e"
            ],
            [
             0.4444444444444444,
             "#bd3786"
            ],
            [
             0.5555555555555556,
             "#d8576b"
            ],
            [
             0.6666666666666666,
             "#ed7953"
            ],
            [
             0.7777777777777778,
             "#fb9f3a"
            ],
            [
             0.8888888888888888,
             "#fdca26"
            ],
            [
             1,
             "#f0f921"
            ]
           ]
          },
          "colorway": [
           "#636efa",
           "#EF553B",
           "#00cc96",
           "#ab63fa",
           "#FFA15A",
           "#19d3f3",
           "#FF6692",
           "#B6E880",
           "#FF97FF",
           "#FECB52"
          ],
          "font": {
           "color": "#2a3f5f"
          },
          "geo": {
           "bgcolor": "white",
           "lakecolor": "white",
           "landcolor": "#E5ECF6",
           "showlakes": true,
           "showland": true,
           "subunitcolor": "white"
          },
          "hoverlabel": {
           "align": "left"
          },
          "hovermode": "closest",
          "mapbox": {
           "style": "light"
          },
          "paper_bgcolor": "white",
          "plot_bgcolor": "#E5ECF6",
          "polar": {
           "angularaxis": {
            "gridcolor": "white",
            "linecolor": "white",
            "ticks": ""
           },
           "bgcolor": "#E5ECF6",
           "radialaxis": {
            "gridcolor": "white",
            "linecolor": "white",
            "ticks": ""
           }
          },
          "scene": {
           "xaxis": {
            "backgroundcolor": "#E5ECF6",
            "gridcolor": "white",
            "gridwidth": 2,
            "linecolor": "white",
            "showbackground": true,
            "ticks": "",
            "zerolinecolor": "white"
           },
           "yaxis": {
            "backgroundcolor": "#E5ECF6",
            "gridcolor": "white",
            "gridwidth": 2,
            "linecolor": "white",
            "showbackground": true,
            "ticks": "",
            "zerolinecolor": "white"
           },
           "zaxis": {
            "backgroundcolor": "#E5ECF6",
            "gridcolor": "white",
            "gridwidth": 2,
            "linecolor": "white",
            "showbackground": true,
            "ticks": "",
            "zerolinecolor": "white"
           }
          },
          "shapedefaults": {
           "line": {
            "color": "#2a3f5f"
           }
          },
          "ternary": {
           "aaxis": {
            "gridcolor": "white",
            "linecolor": "white",
            "ticks": ""
           },
           "baxis": {
            "gridcolor": "white",
            "linecolor": "white",
            "ticks": ""
           },
           "bgcolor": "#E5ECF6",
           "caxis": {
            "gridcolor": "white",
            "linecolor": "white",
            "ticks": ""
           }
          },
          "title": {
           "x": 0.05
          },
          "xaxis": {
           "automargin": true,
           "gridcolor": "white",
           "linecolor": "white",
           "ticks": "",
           "title": {
            "standoff": 15
           },
           "zerolinecolor": "white",
           "zerolinewidth": 2
          },
          "yaxis": {
           "automargin": true,
           "gridcolor": "white",
           "linecolor": "white",
           "ticks": "",
           "title": {
            "standoff": 15
           },
           "zerolinecolor": "white",
           "zerolinewidth": 2
          }
         }
        },
        "title": {
         "text": "BENCHMARK_DELTA_T"
        },
        "xaxis": {
         "anchor": "y",
         "domain": [
          0,
          1
         ],
         "title": {
          "text": "index"
         }
        },
        "yaxis": {
         "anchor": "x",
         "domain": [
          0,
          1
         ],
         "title": {
          "text": "BENCHMARK_DELTA_T"
         }
        }
       }
      }
     },
     "metadata": {},
     "output_type": "display_data"
    }
   ],
   "source": [
    "px.line(data, y=\"BENCHMARK_DELTA_T\", title=\"BENCHMARK_DELTA_T\")"
   ]
  },
  {
   "cell_type": "code",
   "execution_count": 29,
   "metadata": {},
   "outputs": [
    {
     "data": {
      "application/vnd.plotly.v1+json": {
       "config": {
        "plotlyServerURL": "https://plot.ly"
       },
       "data": [
        {
         "hovertemplate": "index=%{x}<br>BENCHMARK_EPI=%{y}<extra></extra>",
         "legendgroup": "",
         "line": {
          "color": "#636efa",
          "dash": "solid"
         },
         "marker": {
          "symbol": "circle"
         },
         "mode": "lines",
         "name": "",
         "orientation": "v",
         "showlegend": false,
         "type": "scatter",
         "x": {
          "bdata": "AAABAAIAAwAEAAUABgAHAAgACQAKAAsADAANAA4ADwAQABEAEgATABQAFQAWABcAGAAZABoAGwAcAB0AHgAfACAAIQAiACMAJAAlACYAJwAoACkAKgArACwALQAuAC8AMAAxADIAMwA0ADUANgA3ADgAOQA6ADsAPAA9AD4APwBAAEEAQgBDAEQARQBGAEcASABJAEoASwBMAE0ATgBPAFAAUQBSAFMAVABVAFYAVwBYAFkAWgBbAFwAXQBeAF8AYABhAGIAYwBkAGUAZgBnAGgAaQBqAGsAbABtAG4AbwBwAHEAcgBzAHQAdQB2AHcAeAB5AHoAewB8AH0AfgB/AIAAgQCCAIMAhACFAIYAhwCIAIkAigCLAIwAjQCOAI8AkACRAJIAkwCUAJUAlgCXAJgAmQCaAJsAnACdAJ4AnwCgAKEAogCjAKQApQCmAKcAqACpAKoAqwCsAK0ArgCvALAAsQCyALMAtAC1ALYAtwC4ALkAugC7ALwAvQC+AL8AwADBAMIAwwDEAMUAxgDHAMgAyQDKAMsAzADNAM4AzwDQANEA0gDTANQA1QDWANcA2ADZANoA2wDcAN0A3gDfAOAA4QDiAOMA5ADlAOYA5wDoAOkA6gDrAOwA7QDuAO8A8ADxAPIA8wD0APUA9gD3APgA+QD6APsA/AD9AP4A/wAAAQEBAgEDAQQBBQEGAQcBCAEJAQoBCwEMAQ0BDgEPARABEQESARMBFAEVARYBFwEYARkBGgEbARwBHQEeAR8BIAEhASIBIwEkASUBJgEnASgBKQEqASsBLAEtAS4BLwEwATEBMgEzATQBNQE2ATcBOAE5AToBOwE8AT0BPgE/AUABQQFCAUMBRAFFAUYBRwFIAUkBSgFLAUwBTQFOAU8BUAFRAVIBUwFUAVUBVgFXAVgBWQFaAVsBXAFdAV4BXwFgAWEBYgFjAWQBZQFmAWcBaAFpAWoBawFsAW0BbgFvAXABcQFyAXMBdAF1AXYBdwF4AXkBegF7AXwBfQF+AX8BgAGBAYIBgwGEAYUBhgGHAYgBiQGKAYsBjAGNAY4BjwGQAZEBkgGTAZQBlQGWAZcBmAGZAZoBmwGcAZ0BngGfAaABoQGiAaMBpAGlAaYBpwGoAakBqgGrAawBrQGuAa8BsAGxAbIBswG0AbUBtgG3AbgBuQG6AbsBvAG9Ab4BvwHAAcEBwgHDAcQBxQHGAccByAHJAcoBywHMAc0BzgHPAdAB0QHSAdMB1AHVAdYB1wHYAdkB2gHbAdwB3QHeAd8B4AHhAeIB4wHkAeUB5gHnAegB6QHqAesB7AHtAe4B7wHwAfEB8gHzAfQB9QH2AfcB+AH5AfoB+wH8Af0B/gH/AQACAQICAgMCBAIFAgYCBwIIAgkCCgILAgwCDQIOAg8CEAIRAhICEwIUAhUCFgIXAhgCGQIaAhsCHAIdAh4CHwIgAiECIgIjAiQCJQImAicCKAIpAioCKwIsAi0CLgIvAjACMQIyAjMCNAI1AjYCNwI4AjkCOgI7AjwCPQI+Aj8CQAJBAkICQwJEAkUCRgJHAkgCSQJKAksCTAJNAk4CTwJQAlECUgJTAlQCVQJWAlcCWAJZAloCWwJcAl0CXgJfAmACYQJiAmMCZAJlAmYCZwJoAmkCagJrAmwCbQJuAm8CcAJxAnICcwJ0AnUCdgJ3AngCeQJ6AnsCfAJ9An4CfwI=",
          "dtype": "i2"
         },
         "xaxis": "x",
         "y": {
          "bdata": "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",
          "dtype": "f8"
         },
         "yaxis": "y"
        }
       ],
       "layout": {
        "legend": {
         "tracegroupgap": 0
        },
        "template": {
         "data": {
          "bar": [
           {
            "error_x": {
             "color": "#2a3f5f"
            },
            "error_y": {
             "color": "#2a3f5f"
            },
            "marker": {
             "line": {
              "color": "#E5ECF6",
              "width": 0.5
             },
             "pattern": {
              "fillmode": "overlay",
              "size": 10,
              "solidity": 0.2
             }
            },
            "type": "bar"
           }
          ],
          "barpolar": [
           {
            "marker": {
             "line": {
              "color": "#E5ECF6",
              "width": 0.5
             },
             "pattern": {
              "fillmode": "overlay",
              "size": 10,
              "solidity": 0.2
             }
            },
            "type": "barpolar"
           }
          ],
          "carpet": [
           {
            "aaxis": {
             "endlinecolor": "#2a3f5f",
             "gridcolor": "white",
             "linecolor": "white",
             "minorgridcolor": "white",
             "startlinecolor": "#2a3f5f"
            },
            "baxis": {
             "endlinecolor": "#2a3f5f",
             "gridcolor": "white",
             "linecolor": "white",
             "minorgridcolor": "white",
             "startlinecolor": "#2a3f5f"
            },
            "type": "carpet"
           }
          ],
          "choropleth": [
           {
            "colorbar": {
             "outlinewidth": 0,
             "ticks": ""
            },
            "type": "choropleth"
           }
          ],
          "contour": [
           {
            "colorbar": {
             "outlinewidth": 0,
             "ticks": ""
            },
            "colorscale": [
             [
              0,
              "#0d0887"
             ],
             [
              0.1111111111111111,
              "#46039f"
             ],
             [
              0.2222222222222222,
              "#7201a8"
             ],
             [
              0.3333333333333333,
              "#9c179e"
             ],
             [
              0.4444444444444444,
              "#bd3786"
             ],
             [
              0.5555555555555556,
              "#d8576b"
             ],
             [
              0.6666666666666666,
              "#ed7953"
             ],
             [
              0.7777777777777778,
              "#fb9f3a"
             ],
             [
              0.8888888888888888,
              "#fdca26"
             ],
             [
              1,
              "#f0f921"
             ]
            ],
            "type": "contour"
           }
          ],
          "contourcarpet": [
           {
            "colorbar": {
             "outlinewidth": 0,
             "ticks": ""
            },
            "type": "contourcarpet"
           }
          ],
          "heatmap": [
           {
            "colorbar": {
             "outlinewidth": 0,
             "ticks": ""
            },
            "colorscale": [
             [
              0,
              "#0d0887"
             ],
             [
              0.1111111111111111,
              "#46039f"
             ],
             [
              0.2222222222222222,
              "#7201a8"
             ],
             [
              0.3333333333333333,
              "#9c179e"
             ],
             [
              0.4444444444444444,
              "#bd3786"
             ],
             [
              0.5555555555555556,
              "#d8576b"
             ],
             [
              0.6666666666666666,
              "#ed7953"
             ],
             [
              0.7777777777777778,
              "#fb9f3a"
             ],
             [
              0.8888888888888888,
              "#fdca26"
             ],
             [
              1,
              "#f0f921"
             ]
            ],
            "type": "heatmap"
           }
          ],
          "histogram": [
           {
            "marker": {
             "pattern": {
              "fillmode": "overlay",
              "size": 10,
              "solidity": 0.2
             }
            },
            "type": "histogram"
           }
          ],
          "histogram2d": [
           {
            "colorbar": {
             "outlinewidth": 0,
             "ticks": ""
            },
            "colorscale": [
             [
              0,
              "#0d0887"
             ],
             [
              0.1111111111111111,
              "#46039f"
             ],
             [
              0.2222222222222222,
              "#7201a8"
             ],
             [
              0.3333333333333333,
              "#9c179e"
             ],
             [
              0.4444444444444444,
              "#bd3786"
             ],
             [
              0.5555555555555556,
              "#d8576b"
             ],
             [
              0.6666666666666666,
              "#ed7953"
             ],
             [
              0.7777777777777778,
              "#fb9f3a"
             ],
             [
              0.8888888888888888,
              "#fdca26"
             ],
             [
              1,
              "#f0f921"
             ]
            ],
            "type": "histogram2d"
           }
          ],
          "histogram2dcontour": [
           {
            "colorbar": {
             "outlinewidth": 0,
             "ticks": ""
            },
            "colorscale": [
             [
              0,
              "#0d0887"
             ],
             [
              0.1111111111111111,
              "#46039f"
             ],
             [
              0.2222222222222222,
              "#7201a8"
             ],
             [
              0.3333333333333333,
              "#9c179e"
             ],
             [
              0.4444444444444444,
              "#bd3786"
             ],
             [
              0.5555555555555556,
              "#d8576b"
             ],
             [
              0.6666666666666666,
              "#ed7953"
             ],
             [
              0.7777777777777778,
              "#fb9f3a"
             ],
             [
              0.8888888888888888,
              "#fdca26"
             ],
             [
              1,
              "#f0f921"
             ]
            ],
            "type": "histogram2dcontour"
           }
          ],
          "mesh3d": [
           {
            "colorbar": {
             "outlinewidth": 0,
             "ticks": ""
            },
            "type": "mesh3d"
           }
          ],
          "parcoords": [
           {
            "line": {
             "colorbar": {
              "outlinewidth": 0,
              "ticks": ""
             }
            },
            "type": "parcoords"
           }
          ],
          "pie": [
           {
            "automargin": true,
            "type": "pie"
           }
          ],
          "scatter": [
           {
            "fillpattern": {
             "fillmode": "overlay",
             "size": 10,
             "solidity": 0.2
            },
            "type": "scatter"
           }
          ],
          "scatter3d": [
           {
            "line": {
             "colorbar": {
              "outlinewidth": 0,
              "ticks": ""
             }
            },
            "marker": {
             "colorbar": {
              "outlinewidth": 0,
              "ticks": ""
             }
            },
            "type": "scatter3d"
           }
          ],
          "scattercarpet": [
           {
            "marker": {
             "colorbar": {
              "outlinewidth": 0,
              "ticks": ""
             }
            },
            "type": "scattercarpet"
           }
          ],
          "scattergeo": [
           {
            "marker": {
             "colorbar": {
              "outlinewidth": 0,
              "ticks": ""
             }
            },
            "type": "scattergeo"
           }
          ],
          "scattergl": [
           {
            "marker": {
             "colorbar": {
              "outlinewidth": 0,
              "ticks": ""
             }
            },
            "type": "scattergl"
           }
          ],
          "scattermap": [
           {
            "marker": {
             "colorbar": {
              "outlinewidth": 0,
              "ticks": ""
             }
            },
            "type": "scattermap"
           }
          ],
          "scattermapbox": [
           {
            "marker": {
             "colorbar": {
              "outlinewidth": 0,
              "ticks": ""
             }
            },
            "type": "scattermapbox"
           }
          ],
          "scatterpolar": [
           {
            "marker": {
             "colorbar": {
              "outlinewidth": 0,
              "ticks": ""
             }
            },
            "type": "scatterpolar"
           }
          ],
          "scatterpolargl": [
           {
            "marker": {
             "colorbar": {
              "outlinewidth": 0,
              "ticks": ""
             }
            },
            "type": "scatterpolargl"
           }
          ],
          "scatterternary": [
           {
            "marker": {
             "colorbar": {
              "outlinewidth": 0,
              "ticks": ""
             }
            },
            "type": "scatterternary"
           }
          ],
          "surface": [
           {
            "colorbar": {
             "outlinewidth": 0,
             "ticks": ""
            },
            "colorscale": [
             [
              0,
              "#0d0887"
             ],
             [
              0.1111111111111111,
              "#46039f"
             ],
             [
              0.2222222222222222,
              "#7201a8"
             ],
             [
              0.3333333333333333,
              "#9c179e"
             ],
             [
              0.4444444444444444,
              "#bd3786"
             ],
             [
              0.5555555555555556,
              "#d8576b"
             ],
             [
              0.6666666666666666,
              "#ed7953"
             ],
             [
              0.7777777777777778,
              "#fb9f3a"
             ],
             [
              0.8888888888888888,
              "#fdca26"
             ],
             [
              1,
              "#f0f921"
             ]
            ],
            "type": "surface"
           }
          ],
          "table": [
           {
            "cells": {
             "fill": {
              "color": "#EBF0F8"
             },
             "line": {
              "color": "white"
             }
            },
            "header": {
             "fill": {
              "color": "#C8D4E3"
             },
             "line": {
              "color": "white"
             }
            },
            "type": "table"
           }
          ]
         },
         "layout": {
          "annotationdefaults": {
           "arrowcolor": "#2a3f5f",
           "arrowhead": 0,
           "arrowwidth": 1
          },
          "autotypenumbers": "strict",
          "coloraxis": {
           "colorbar": {
            "outlinewidth": 0,
            "ticks": ""
           }
          },
          "colorscale": {
           "diverging": [
            [
             0,
             "#8e0152"
            ],
            [
             0.1,
             "#c51b7d"
            ],
            [
             0.2,
             "#de77ae"
            ],
            [
             0.3,
             "#f1b6da"
            ],
            [
             0.4,
             "#fde0ef"
            ],
            [
             0.5,
             "#f7f7f7"
            ],
            [
             0.6,
             "#e6f5d0"
            ],
            [
             0.7,
             "#b8e186"
            ],
            [
             0.8,
             "#7fbc41"
            ],
            [
             0.9,
             "#4d9221"
            ],
            [
             1,
             "#276419"
            ]
           ],
           "sequential": [
            [
             0,
             "#0d0887"
            ],
            [
             0.1111111111111111,
             "#46039f"
            ],
            [
             0.2222222222222222,
             "#7201a8"
            ],
            [
             0.3333333333333333,
             "#9c179e"
            ],
            [
             0.4444444444444444,
             "#bd3786"
            ],
            [
             0.5555555555555556,
             "#d8576b"
            ],
            [
             0.6666666666666666,
             "#ed7953"
            ],
            [
             0.7777777777777778,
             "#fb9f3a"
            ],
            [
             0.8888888888888888,
             "#fdca26"
            ],
            [
             1,
             "#f0f921"
            ]
           ],
           "sequentialminus": [
            [
             0,
             "#0d0887"
            ],
            [
             0.1111111111111111,
             "#46039f"
            ],
            [
             0.2222222222222222,
             "#7201a8"
            ],
            [
             0.3333333333333333,
             "#9c179e"
            ],
            [
             0.4444444444444444,
             "#bd3786"
            ],
            [
             0.5555555555555556,
             "#d8576b"
            ],
            [
             0.6666666666666666,
             "#ed7953"
            ],
            [
             0.7777777777777778,
             "#fb9f3a"
            ],
            [
             0.8888888888888888,
             "#fdca26"
            ],
            [
             1,
             "#f0f921"
            ]
           ]
          },
          "colorway": [
           "#636efa",
           "#EF553B",
           "#00cc96",
           "#ab63fa",
           "#FFA15A",
           "#19d3f3",
           "#FF6692",
           "#B6E880",
           "#FF97FF",
           "#FECB52"
          ],
          "font": {
           "color": "#2a3f5f"
          },
          "geo": {
           "bgcolor": "white",
           "lakecolor": "white",
           "landcolor": "#E5ECF6",
           "showlakes": true,
           "showland": true,
           "subunitcolor": "white"
          },
          "hoverlabel": {
           "align": "left"
          },
          "hovermode": "closest",
          "mapbox": {
           "style": "light"
          },
          "paper_bgcolor": "white",
          "plot_bgcolor": "#E5ECF6",
          "polar": {
           "angularaxis": {
            "gridcolor": "white",
            "linecolor": "white",
            "ticks": ""
           },
           "bgcolor": "#E5ECF6",
           "radialaxis": {
            "gridcolor": "white",
            "linecolor": "white",
            "ticks": ""
           }
          },
          "scene": {
           "xaxis": {
            "backgroundcolor": "#E5ECF6",
            "gridcolor": "white",
            "gridwidth": 2,
            "linecolor": "white",
            "showbackground": true,
            "ticks": "",
            "zerolinecolor": "white"
           },
           "yaxis": {
            "backgroundcolor": "#E5ECF6",
            "gridcolor": "white",
            "gridwidth": 2,
            "linecolor": "white",
            "showbackground": true,
            "ticks": "",
            "zerolinecolor": "white"
           },
           "zaxis": {
            "backgroundcolor": "#E5ECF6",
            "gridcolor": "white",
            "gridwidth": 2,
            "linecolor": "white",
            "showbackground": true,
            "ticks": "",
            "zerolinecolor": "white"
           }
          },
          "shapedefaults": {
           "line": {
            "color": "#2a3f5f"
           }
          },
          "ternary": {
           "aaxis": {
            "gridcolor": "white",
            "linecolor": "white",
            "ticks": ""
           },
           "baxis": {
            "gridcolor": "white",
            "linecolor": "white",
            "ticks": ""
           },
           "bgcolor": "#E5ECF6",
           "caxis": {
            "gridcolor": "white",
            "linecolor": "white",
            "ticks": ""
           }
          },
          "title": {
           "x": 0.05
          },
          "xaxis": {
           "automargin": true,
           "gridcolor": "white",
           "linecolor": "white",
           "ticks": "",
           "title": {
            "standoff": 15
           },
           "zerolinecolor": "white",
           "zerolinewidth": 2
          },
          "yaxis": {
           "automargin": true,
           "gridcolor": "white",
           "linecolor": "white",
           "ticks": "",
           "title": {
            "standoff": 15
           },
           "zerolinecolor": "white",
           "zerolinewidth": 2
          }
         }
        },
        "title": {
         "text": "BENCHMARK_EPI"
        },
        "xaxis": {
         "anchor": "y",
         "domain": [
          0,
          1
         ],
         "title": {
          "text": "index"
         }
        },
        "yaxis": {
         "anchor": "x",
         "domain": [
          0,
          1
         ],
         "title": {
          "text": "BENCHMARK_EPI"
         }
        }
       }
      }
     },
     "metadata": {},
     "output_type": "display_data"
    }
   ],
   "source": [
    "px.line(data, y=\"BENCHMARK_EPI\", title=\"BENCHMARK_EPI\")"
   ]
  },
  {
   "cell_type": "code",
   "execution_count": 30,
   "metadata": {},
   "outputs": [
    {
     "data": {
      "application/vnd.plotly.v1+json": {
       "config": {
        "plotlyServerURL": "https://plot.ly"
       },
       "data": [
        {
         "hovertemplate": "index=%{x}<br>BENCHMARK_EPI=%{y}<extra></extra>",
         "legendgroup": "",
         "line": {
          "color": "#636efa",
          "dash": "solid"
         },
         "marker": {
          "symbol": "circle"
         },
         "mode": "lines",
         "name": "",
         "orientation": "v",
         "showlegend": false,
         "type": "scatter",
         "x": {
          "bdata": "AAABAAIAAwAEAAUABgAHAAgACQAKAAsADAANAA4ADwAQABEAEgATABQAFQAWABcAGAAZABoAGwAcAB0AHgAfACAAIQAiACMAJAAlACYAJwAoACkAKgArACwALQAuAC8AMAAxADIAMwA0ADUANgA3ADgAOQA6ADsAPAA9AD4APwBAAEEAQgBDAEQARQBGAEcASABJAEoASwBMAE0ATgBPAFAAUQBSAFMAVABVAFYAVwBYAFkAWgBbAFwAXQBeAF8AYABhAGIAYwBkAGUAZgBnAGgAaQBqAGsAbABtAG4AbwBwAHEAcgBzAHQAdQB2AHcAeAB5AHoAewB8AH0AfgB/AIAAgQCCAIMAhACFAIYAhwCIAIkAigCLAIwAjQCOAI8AkACRAJIAkwCUAJUAlgCXAJgAmQCaAJsAnACdAJ4AnwCgAKEAogCjAKQApQCmAKcAqACpAKoAqwCsAK0ArgCvALAAsQCyALMAtAC1ALYAtwC4ALkAugC7ALwAvQC+AL8AwADBAMIAwwDEAMUAxgDHAMgAyQDKAMsAzADNAM4AzwDQANEA0gDTANQA1QDWANcA2ADZANoA2wDcAN0A3gDfAOAA4QDiAOMA5ADlAOYA5wDoAOkA6gDrAOwA7QDuAO8A8ADxAPIA8wD0APUA9gD3APgA+QD6APsA/AD9AP4A/wAAAQEBAgEDAQQBBQEGAQcBCAEJAQoBCwEMAQ0BDgEPARABEQESARMBFAEVARYBFwEYARkBGgEbARwBHQEeAR8BIAEhASIBIwEkASUBJgEnASgBKQEqASsBLAEtAS4BLwEwATEBMgEzATQBNQE2ATcBOAE5AToBOwE8AT0BPgE/AUABQQFCAUMBRAFFAUYBRwFIAUkBSgFLAUwBTQFOAU8BUAFRAVIBUwFUAVUBVgFXAVgBWQFaAVsBXAFdAV4BXwFgAWEBYgFjAWQBZQFmAWcBaAFpAWoBawFsAW0BbgFvAXABcQFyAXMBdAF1AXYBdwF4AXkBegF7AXwBfQF+AX8BgAGBAYIBgwGEAYUBhgGHAYgBiQGKAYsBjAGNAY4BjwGQAZEBkgGTAZQBlQGWAZcBmAGZAZoBmwGcAZ0BngGfAaABoQGiAaMBpAGlAaYBpwGoAakBqgGrAawBrQGuAa8BsAGxAbIBswG0AbUBtgG3AbgBuQG6AbsBvAG9Ab4BvwHAAcEBwgHDAcQBxQHGAccByAHJAcoBywHMAc0BzgHPAdAB0QHSAdMB1AHVAdYB1wHYAdkB2gHbAdwB3QHeAd8B4AHhAeIB4wHkAeUB5gHnAegB6QHqAesB7AHtAe4B7wHwAfEB8gHzAfQB9QH2AfcB+AH5AfoB+wH8Af0B/gH/AQACAQICAgMCBAIFAgYCBwIIAgkCCgILAgwCDQIOAg8CEAIRAhICEwIUAhUCFgIXAhgCGQIaAhsCHAIdAh4CHwIgAiECIgIjAiQCJQImAicCKAIpAioCKwIsAi0CLgIvAjACMQIyAjMCNAI1AjYCNwI4AjkCOgI7AjwCPQI+Aj8CQAJBAkICQwJEAkUCRgJHAkgCSQJKAksCTAJNAk4CTwJQAlECUgJTAlQCVQJWAlcCWAJZAloCWwJcAl0CXgJfAmACYQJiAmMCZAJlAmYCZwJoAmkCagJrAmwCbQJuAm8CcAJxAnICcwJ0AnUCdgJ3AngCeQJ6AnsCfAJ9An4CfwI=",
          "dtype": "i2"
         },
         "xaxis": "x",
         "y": {
          "bdata": "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",
          "dtype": "f8"
         },
         "yaxis": "y"
        }
       ],
       "layout": {
        "legend": {
         "tracegroupgap": 0
        },
        "template": {
         "data": {
          "bar": [
           {
            "error_x": {
             "color": "#2a3f5f"
            },
            "error_y": {
             "color": "#2a3f5f"
            },
            "marker": {
             "line": {
              "color": "#E5ECF6",
              "width": 0.5
             },
             "pattern": {
              "fillmode": "overlay",
              "size": 10,
              "solidity": 0.2
             }
            },
            "type": "bar"
           }
          ],
          "barpolar": [
           {
            "marker": {
             "line": {
              "color": "#E5ECF6",
              "width": 0.5
             },
             "pattern": {
              "fillmode": "overlay",
              "size": 10,
              "solidity": 0.2
             }
            },
            "type": "barpolar"
           }
          ],
          "carpet": [
           {
            "aaxis": {
             "endlinecolor": "#2a3f5f",
             "gridcolor": "white",
             "linecolor": "white",
             "minorgridcolor": "white",
             "startlinecolor": "#2a3f5f"
            },
            "baxis": {
             "endlinecolor": "#2a3f5f",
             "gridcolor": "white",
             "linecolor": "white",
             "minorgridcolor": "white",
             "startlinecolor": "#2a3f5f"
            },
            "type": "carpet"
           }
          ],
          "choropleth": [
           {
            "colorbar": {
             "outlinewidth": 0,
             "ticks": ""
            },
            "type": "choropleth"
           }
          ],
          "contour": [
           {
            "colorbar": {
             "outlinewidth": 0,
             "ticks": ""
            },
            "colorscale": [
             [
              0,
              "#0d0887"
             ],
             [
              0.1111111111111111,
              "#46039f"
             ],
             [
              0.2222222222222222,
              "#7201a8"
             ],
             [
              0.3333333333333333,
              "#9c179e"
             ],
             [
              0.4444444444444444,
              "#bd3786"
             ],
             [
              0.5555555555555556,
              "#d8576b"
             ],
             [
              0.6666666666666666,
              "#ed7953"
             ],
             [
              0.7777777777777778,
              "#fb9f3a"
             ],
             [
              0.8888888888888888,
              "#fdca26"
             ],
             [
              1,
              "#f0f921"
             ]
            ],
            "type": "contour"
           }
          ],
          "contourcarpet": [
           {
            "colorbar": {
             "outlinewidth": 0,
             "ticks": ""
            },
            "type": "contourcarpet"
           }
          ],
          "heatmap": [
           {
            "colorbar": {
             "outlinewidth": 0,
             "ticks": ""
            },
            "colorscale": [
             [
              0,
              "#0d0887"
             ],
             [
              0.1111111111111111,
              "#46039f"
             ],
             [
              0.2222222222222222,
              "#7201a8"
             ],
             [
              0.3333333333333333,
              "#9c179e"
             ],
             [
              0.4444444444444444,
              "#bd3786"
             ],
             [
              0.5555555555555556,
              "#d8576b"
             ],
             [
              0.6666666666666666,
              "#ed7953"
             ],
             [
              0.7777777777777778,
              "#fb9f3a"
             ],
             [
              0.8888888888888888,
              "#fdca26"
             ],
             [
              1,
              "#f0f921"
             ]
            ],
            "type": "heatmap"
           }
          ],
          "histogram": [
           {
            "marker": {
             "pattern": {
              "fillmode": "overlay",
              "size": 10,
              "solidity": 0.2
             }
            },
            "type": "histogram"
           }
          ],
          "histogram2d": [
           {
            "colorbar": {
             "outlinewidth": 0,
             "ticks": ""
            },
            "colorscale": [
             [
              0,
              "#0d0887"
             ],
             [
              0.1111111111111111,
              "#46039f"
             ],
             [
              0.2222222222222222,
              "#7201a8"
             ],
             [
              0.3333333333333333,
              "#9c179e"
             ],
             [
              0.4444444444444444,
              "#bd3786"
             ],
             [
              0.5555555555555556,
              "#d8576b"
             ],
             [
              0.6666666666666666,
              "#ed7953"
             ],
             [
              0.7777777777777778,
              "#fb9f3a"
             ],
             [
              0.8888888888888888,
              "#fdca26"
             ],
             [
              1,
              "#f0f921"
             ]
            ],
            "type": "histogram2d"
           }
          ],
          "histogram2dcontour": [
           {
            "colorbar": {
             "outlinewidth": 0,
             "ticks": ""
            },
            "colorscale": [
             [
              0,
              "#0d0887"
             ],
             [
              0.1111111111111111,
              "#46039f"
             ],
             [
              0.2222222222222222,
              "#7201a8"
             ],
             [
              0.3333333333333333,
              "#9c179e"
             ],
             [
              0.4444444444444444,
              "#bd3786"
             ],
             [
              0.5555555555555556,
              "#d8576b"
             ],
             [
              0.6666666666666666,
              "#ed7953"
             ],
             [
              0.7777777777777778,
              "#fb9f3a"
             ],
             [
              0.8888888888888888,
              "#fdca26"
             ],
             [
              1,
              "#f0f921"
             ]
            ],
            "type": "histogram2dcontour"
           }
          ],
          "mesh3d": [
           {
            "colorbar": {
             "outlinewidth": 0,
             "ticks": ""
            },
            "type": "mesh3d"
           }
          ],
          "parcoords": [
           {
            "line": {
             "colorbar": {
              "outlinewidth": 0,
              "ticks": ""
             }
            },
            "type": "parcoords"
           }
          ],
          "pie": [
           {
            "automargin": true,
            "type": "pie"
           }
          ],
          "scatter": [
           {
            "fillpattern": {
             "fillmode": "overlay",
             "size": 10,
             "solidity": 0.2
            },
            "type": "scatter"
           }
          ],
          "scatter3d": [
           {
            "line": {
             "colorbar": {
              "outlinewidth": 0,
              "ticks": ""
             }
            },
            "marker": {
             "colorbar": {
              "outlinewidth": 0,
              "ticks": ""
             }
            },
            "type": "scatter3d"
           }
          ],
          "scattercarpet": [
           {
            "marker": {
             "colorbar": {
              "outlinewidth": 0,
              "ticks": ""
             }
            },
            "type": "scattercarpet"
           }
          ],
          "scattergeo": [
           {
            "marker": {
             "colorbar": {
              "outlinewidth": 0,
              "ticks": ""
             }
            },
            "type": "scattergeo"
           }
          ],
          "scattergl": [
           {
            "marker": {
             "colorbar": {
              "outlinewidth": 0,
              "ticks": ""
             }
            },
            "type": "scattergl"
           }
          ],
          "scattermap": [
           {
            "marker": {
             "colorbar": {
              "outlinewidth": 0,
              "ticks": ""
             }
            },
            "type": "scattermap"
           }
          ],
          "scattermapbox": [
           {
            "marker": {
             "colorbar": {
              "outlinewidth": 0,
              "ticks": ""
             }
            },
            "type": "scattermapbox"
           }
          ],
          "scatterpolar": [
           {
            "marker": {
             "colorbar": {
              "outlinewidth": 0,
              "ticks": ""
             }
            },
            "type": "scatterpolar"
           }
          ],
          "scatterpolargl": [
           {
            "marker": {
             "colorbar": {
              "outlinewidth": 0,
              "ticks": ""
             }
            },
            "type": "scatterpolargl"
           }
          ],
          "scatterternary": [
           {
            "marker": {
             "colorbar": {
              "outlinewidth": 0,
              "ticks": ""
             }
            },
            "type": "scatterternary"
           }
          ],
          "surface": [
           {
            "colorbar": {
             "outlinewidth": 0,
             "ticks": ""
            },
            "colorscale": [
             [
              0,
              "#0d0887"
             ],
             [
              0.1111111111111111,
              "#46039f"
             ],
             [
              0.2222222222222222,
              "#7201a8"
             ],
             [
              0.3333333333333333,
              "#9c179e"
             ],
             [
              0.4444444444444444,
              "#bd3786"
             ],
             [
              0.5555555555555556,
              "#d8576b"
             ],
             [
              0.6666666666666666,
              "#ed7953"
             ],
             [
              0.7777777777777778,
              "#fb9f3a"
             ],
             [
              0.8888888888888888,
              "#fdca26"
             ],
             [
              1,
              "#f0f921"
             ]
            ],
            "type": "surface"
           }
          ],
          "table": [
           {
            "cells": {
             "fill": {
              "color": "#EBF0F8"
             },
             "line": {
              "color": "white"
             }
            },
            "header": {
             "fill": {
              "color": "#C8D4E3"
             },
             "line": {
              "color": "white"
             }
            },
            "type": "table"
           }
          ]
         },
         "layout": {
          "annotationdefaults": {
           "arrowcolor": "#2a3f5f",
           "arrowhead": 0,
           "arrowwidth": 1
          },
          "autotypenumbers": "strict",
          "coloraxis": {
           "colorbar": {
            "outlinewidth": 0,
            "ticks": ""
           }
          },
          "colorscale": {
           "diverging": [
            [
             0,
             "#8e0152"
            ],
            [
             0.1,
             "#c51b7d"
            ],
            [
             0.2,
             "#de77ae"
            ],
            [
             0.3,
             "#f1b6da"
            ],
            [
             0.4,
             "#fde0ef"
            ],
            [
             0.5,
             "#f7f7f7"
            ],
            [
             0.6,
             "#e6f5d0"
            ],
            [
             0.7,
             "#b8e186"
            ],
            [
             0.8,
             "#7fbc41"
            ],
            [
             0.9,
             "#4d9221"
            ],
            [
             1,
             "#276419"
            ]
           ],
           "sequential": [
            [
             0,
             "#0d0887"
            ],
            [
             0.1111111111111111,
             "#46039f"
            ],
            [
             0.2222222222222222,
             "#7201a8"
            ],
            [
             0.3333333333333333,
             "#9c179e"
            ],
            [
             0.4444444444444444,
             "#bd3786"
            ],
            [
             0.5555555555555556,
             "#d8576b"
            ],
            [
             0.6666666666666666,
             "#ed7953"
            ],
            [
             0.7777777777777778,
             "#fb9f3a"
            ],
            [
             0.8888888888888888,
             "#fdca26"
            ],
            [
             1,
             "#f0f921"
            ]
           ],
           "sequentialminus": [
            [
             0,
             "#0d0887"
            ],
            [
             0.1111111111111111,
             "#46039f"
            ],
            [
             0.2222222222222222,
             "#7201a8"
            ],
            [
             0.3333333333333333,
             "#9c179e"
            ],
            [
             0.4444444444444444,
             "#bd3786"
            ],
            [
             0.5555555555555556,
             "#d8576b"
            ],
            [
             0.6666666666666666,
             "#ed7953"
            ],
            [
             0.7777777777777778,
             "#fb9f3a"
            ],
            [
             0.8888888888888888,
             "#fdca26"
            ],
            [
             1,
             "#f0f921"
            ]
           ]
          },
          "colorway": [
           "#636efa",
           "#EF553B",
           "#00cc96",
           "#ab63fa",
           "#FFA15A",
           "#19d3f3",
           "#FF6692",
           "#B6E880",
           "#FF97FF",
           "#FECB52"
          ],
          "font": {
           "color": "#2a3f5f"
          },
          "geo": {
           "bgcolor": "white",
           "lakecolor": "white",
           "landcolor": "#E5ECF6",
           "showlakes": true,
           "showland": true,
           "subunitcolor": "white"
          },
          "hoverlabel": {
           "align": "left"
          },
          "hovermode": "closest",
          "mapbox": {
           "style": "light"
          },
          "paper_bgcolor": "white",
          "plot_bgcolor": "#E5ECF6",
          "polar": {
           "angularaxis": {
            "gridcolor": "white",
            "linecolor": "white",
            "ticks": ""
           },
           "bgcolor": "#E5ECF6",
           "radialaxis": {
            "gridcolor": "white",
            "linecolor": "white",
            "ticks": ""
           }
          },
          "scene": {
           "xaxis": {
            "backgroundcolor": "#E5ECF6",
            "gridcolor": "white",
            "gridwidth": 2,
            "linecolor": "white",
            "showbackground": true,
            "ticks": "",
            "zerolinecolor": "white"
           },
           "yaxis": {
            "backgroundcolor": "#E5ECF6",
            "gridcolor": "white",
            "gridwidth": 2,
            "linecolor": "white",
            "showbackground": true,
            "ticks": "",
            "zerolinecolor": "white"
           },
           "zaxis": {
            "backgroundcolor": "#E5ECF6",
            "gridcolor": "white",
            "gridwidth": 2,
            "linecolor": "white",
            "showbackground": true,
            "ticks": "",
            "zerolinecolor": "white"
           }
          },
          "shapedefaults": {
           "line": {
            "color": "#2a3f5f"
           }
          },
          "ternary": {
           "aaxis": {
            "gridcolor": "white",
            "linecolor": "white",
            "ticks": ""
           },
           "baxis": {
            "gridcolor": "white",
            "linecolor": "white",
            "ticks": ""
           },
           "bgcolor": "#E5ECF6",
           "caxis": {
            "gridcolor": "white",
            "linecolor": "white",
            "ticks": ""
           }
          },
          "title": {
           "x": 0.05
          },
          "xaxis": {
           "automargin": true,
           "gridcolor": "white",
           "linecolor": "white",
           "ticks": "",
           "title": {
            "standoff": 15
           },
           "zerolinecolor": "white",
           "zerolinewidth": 2
          },
          "yaxis": {
           "automargin": true,
           "gridcolor": "white",
           "linecolor": "white",
           "ticks": "",
           "title": {
            "standoff": 15
           },
           "zerolinecolor": "white",
           "zerolinewidth": 2
          }
         }
        },
        "title": {
         "text": "BENCHMARK_EPI"
        },
        "xaxis": {
         "anchor": "y",
         "domain": [
          0,
          1
         ],
         "title": {
          "text": "index"
         }
        },
        "yaxis": {
         "anchor": "x",
         "domain": [
          0,
          1
         ],
         "title": {
          "text": "BENCHMARK_EPI"
         }
        }
       }
      }
     },
     "metadata": {},
     "output_type": "display_data"
    }
   ],
   "source": [
    "px.line(data, y=\"BENCHMARK_EPI\", title=\"BENCHMARK_EPI\")"
   ]
  },
  {
   "cell_type": "code",
   "execution_count": 31,
   "metadata": {},
   "outputs": [
    {
     "data": {
      "application/vnd.plotly.v1+json": {
       "config": {
        "plotlyServerURL": "https://plot.ly"
       },
       "data": [
        {
         "hovertemplate": "index=%{x}<br>BENCHMARK_INSULATION=%{y}<extra></extra>",
         "legendgroup": "",
         "line": {
          "color": "#636efa",
          "dash": "solid"
         },
         "marker": {
          "symbol": "circle"
         },
         "mode": "lines",
         "name": "",
         "orientation": "v",
         "showlegend": false,
         "type": "scatter",
         "x": {
          "bdata": "AAABAAIAAwAEAAUABgAHAAgACQAKAAsADAANAA4ADwAQABEAEgATABQAFQAWABcAGAAZABoAGwAcAB0AHgAfACAAIQAiACMAJAAlACYAJwAoACkAKgArACwALQAuAC8AMAAxADIAMwA0ADUANgA3ADgAOQA6ADsAPAA9AD4APwBAAEEAQgBDAEQARQBGAEcASABJAEoASwBMAE0ATgBPAFAAUQBSAFMAVABVAFYAVwBYAFkAWgBbAFwAXQBeAF8AYABhAGIAYwBkAGUAZgBnAGgAaQBqAGsAbABtAG4AbwBwAHEAcgBzAHQAdQB2AHcAeAB5AHoAewB8AH0AfgB/AIAAgQCCAIMAhACFAIYAhwCIAIkAigCLAIwAjQCOAI8AkACRAJIAkwCUAJUAlgCXAJgAmQCaAJsAnACdAJ4AnwCgAKEAogCjAKQApQCmAKcAqACpAKoAqwCsAK0ArgCvALAAsQCyALMAtAC1ALYAtwC4ALkAugC7ALwAvQC+AL8AwADBAMIAwwDEAMUAxgDHAMgAyQDKAMsAzADNAM4AzwDQANEA0gDTANQA1QDWANcA2ADZANoA2wDcAN0A3gDfAOAA4QDiAOMA5ADlAOYA5wDoAOkA6gDrAOwA7QDuAO8A8ADxAPIA8wD0APUA9gD3APgA+QD6APsA/AD9AP4A/wAAAQEBAgEDAQQBBQEGAQcBCAEJAQoBCwEMAQ0BDgEPARABEQESARMBFAEVARYBFwEYARkBGgEbARwBHQEeAR8BIAEhASIBIwEkASUBJgEnASgBKQEqASsBLAEtAS4BLwEwATEBMgEzATQBNQE2ATcBOAE5AToBOwE8AT0BPgE/AUABQQFCAUMBRAFFAUYBRwFIAUkBSgFLAUwBTQFOAU8BUAFRAVIBUwFUAVUBVgFXAVgBWQFaAVsBXAFdAV4BXwFgAWEBYgFjAWQBZQFmAWcBaAFpAWoBawFsAW0BbgFvAXABcQFyAXMBdAF1AXYBdwF4AXkBegF7AXwBfQF+AX8BgAGBAYIBgwGEAYUBhgGHAYgBiQGKAYsBjAGNAY4BjwGQAZEBkgGTAZQBlQGWAZcBmAGZAZoBmwGcAZ0BngGfAaABoQGiAaMBpAGlAaYBpwGoAakBqgGrAawBrQGuAa8BsAGxAbIBswG0AbUBtgG3AbgBuQG6AbsBvAG9Ab4BvwHAAcEBwgHDAcQBxQHGAccByAHJAcoBywHMAc0BzgHPAdAB0QHSAdMB1AHVAdYB1wHYAdkB2gHbAdwB3QHeAd8B4AHhAeIB4wHkAeUB5gHnAegB6QHqAesB7AHtAe4B7wHwAfEB8gHzAfQB9QH2AfcB+AH5AfoB+wH8Af0B/gH/AQACAQICAgMCBAIFAgYCBwIIAgkCCgILAgwCDQIOAg8CEAIRAhICEwIUAhUCFgIXAhgCGQIaAhsCHAIdAh4CHwIgAiECIgIjAiQCJQImAicCKAIpAioCKwIsAi0CLgIvAjACMQIyAjMCNAI1AjYCNwI4AjkCOgI7AjwCPQI+Aj8CQAJBAkICQwJEAkUCRgJHAkgCSQJKAksCTAJNAk4CTwJQAlECUgJTAlQCVQJWAlcCWAJZAloCWwJcAl0CXgJfAmACYQJiAmMCZAJlAmYCZwJoAmkCagJrAmwCbQJuAm8CcAJxAnICcwJ0AnUCdgJ3AngCeQJ6AnsCfAJ9An4CfwI=",
          "dtype": "i2"
         },
         "xaxis": "x",
         "y": {
          "bdata": "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",
          "dtype": "f8"
         },
         "yaxis": "y"
        }
       ],
       "layout": {
        "legend": {
         "tracegroupgap": 0
        },
        "template": {
         "data": {
          "bar": [
           {
            "error_x": {
             "color": "#2a3f5f"
            },
            "error_y": {
             "color": "#2a3f5f"
            },
            "marker": {
             "line": {
              "color": "#E5ECF6",
              "width": 0.5
             },
             "pattern": {
              "fillmode": "overlay",
              "size": 10,
              "solidity": 0.2
             }
            },
            "type": "bar"
           }
          ],
          "barpolar": [
           {
            "marker": {
             "line": {
              "color": "#E5ECF6",
              "width": 0.5
             },
             "pattern": {
              "fillmode": "overlay",
              "size": 10,
              "solidity": 0.2
             }
            },
            "type": "barpolar"
           }
          ],
          "carpet": [
           {
            "aaxis": {
             "endlinecolor": "#2a3f5f",
             "gridcolor": "white",
             "linecolor": "white",
             "minorgridcolor": "white",
             "startlinecolor": "#2a3f5f"
            },
            "baxis": {
             "endlinecolor": "#2a3f5f",
             "gridcolor": "white",
             "linecolor": "white",
             "minorgridcolor": "white",
             "startlinecolor": "#2a3f5f"
            },
            "type": "carpet"
           }
          ],
          "choropleth": [
           {
            "colorbar": {
             "outlinewidth": 0,
             "ticks": ""
            },
            "type": "choropleth"
           }
          ],
          "contour": [
           {
            "colorbar": {
             "outlinewidth": 0,
             "ticks": ""
            },
            "colorscale": [
             [
              0,
              "#0d0887"
             ],
             [
              0.1111111111111111,
              "#46039f"
             ],
             [
              0.2222222222222222,
              "#7201a8"
             ],
             [
              0.3333333333333333,
              "#9c179e"
             ],
             [
              0.4444444444444444,
              "#bd3786"
             ],
             [
              0.5555555555555556,
              "#d8576b"
             ],
             [
              0.6666666666666666,
              "#ed7953"
             ],
             [
              0.7777777777777778,
              "#fb9f3a"
             ],
             [
              0.8888888888888888,
              "#fdca26"
             ],
             [
              1,
              "#f0f921"
             ]
            ],
            "type": "contour"
           }
          ],
          "contourcarpet": [
           {
            "colorbar": {
             "outlinewidth": 0,
             "ticks": ""
            },
            "type": "contourcarpet"
           }
          ],
          "heatmap": [
           {
            "colorbar": {
             "outlinewidth": 0,
             "ticks": ""
            },
            "colorscale": [
             [
              0,
              "#0d0887"
             ],
             [
              0.1111111111111111,
              "#46039f"
             ],
             [
              0.2222222222222222,
              "#7201a8"
             ],
             [
              0.3333333333333333,
              "#9c179e"
             ],
             [
              0.4444444444444444,
              "#bd3786"
             ],
             [
              0.5555555555555556,
              "#d8576b"
             ],
             [
              0.6666666666666666,
              "#ed7953"
             ],
             [
              0.7777777777777778,
              "#fb9f3a"
             ],
             [
              0.8888888888888888,
              "#fdca26"
             ],
             [
              1,
              "#f0f921"
             ]
            ],
            "type": "heatmap"
           }
          ],
          "histogram": [
           {
            "marker": {
             "pattern": {
              "fillmode": "overlay",
              "size": 10,
              "solidity": 0.2
             }
            },
            "type": "histogram"
           }
          ],
          "histogram2d": [
           {
            "colorbar": {
             "outlinewidth": 0,
             "ticks": ""
            },
            "colorscale": [
             [
              0,
              "#0d0887"
             ],
             [
              0.1111111111111111,
              "#46039f"
             ],
             [
              0.2222222222222222,
              "#7201a8"
             ],
             [
              0.3333333333333333,
              "#9c179e"
             ],
             [
              0.4444444444444444,
              "#bd3786"
             ],
             [
              0.5555555555555556,
              "#d8576b"
             ],
             [
              0.6666666666666666,
              "#ed7953"
             ],
             [
              0.7777777777777778,
              "#fb9f3a"
             ],
             [
              0.8888888888888888,
              "#fdca26"
             ],
             [
              1,
              "#f0f921"
             ]
            ],
            "type": "histogram2d"
           }
          ],
          "histogram2dcontour": [
           {
            "colorbar": {
             "outlinewidth": 0,
             "ticks": ""
            },
            "colorscale": [
             [
              0,
              "#0d0887"
             ],
             [
              0.1111111111111111,
              "#46039f"
             ],
             [
              0.2222222222222222,
              "#7201a8"
             ],
             [
              0.3333333333333333,
              "#9c179e"
             ],
             [
              0.4444444444444444,
              "#bd3786"
             ],
             [
              0.5555555555555556,
              "#d8576b"
             ],
             [
              0.6666666666666666,
              "#ed7953"
             ],
             [
              0.7777777777777778,
              "#fb9f3a"
             ],
             [
              0.8888888888888888,
              "#fdca26"
             ],
             [
              1,
              "#f0f921"
             ]
            ],
            "type": "histogram2dcontour"
           }
          ],
          "mesh3d": [
           {
            "colorbar": {
             "outlinewidth": 0,
             "ticks": ""
            },
            "type": "mesh3d"
           }
          ],
          "parcoords": [
           {
            "line": {
             "colorbar": {
              "outlinewidth": 0,
              "ticks": ""
             }
            },
            "type": "parcoords"
           }
          ],
          "pie": [
           {
            "automargin": true,
            "type": "pie"
           }
          ],
          "scatter": [
           {
            "fillpattern": {
             "fillmode": "overlay",
             "size": 10,
             "solidity": 0.2
            },
            "type": "scatter"
           }
          ],
          "scatter3d": [
           {
            "line": {
             "colorbar": {
              "outlinewidth": 0,
              "ticks": ""
             }
            },
            "marker": {
             "colorbar": {
              "outlinewidth": 0,
              "ticks": ""
             }
            },
            "type": "scatter3d"
           }
          ],
          "scattercarpet": [
           {
            "marker": {
             "colorbar": {
              "outlinewidth": 0,
              "ticks": ""
             }
            },
            "type": "scattercarpet"
           }
          ],
          "scattergeo": [
           {
            "marker": {
             "colorbar": {
              "outlinewidth": 0,
              "ticks": ""
             }
            },
            "type": "scattergeo"
           }
          ],
          "scattergl": [
           {
            "marker": {
             "colorbar": {
              "outlinewidth": 0,
              "ticks": ""
             }
            },
            "type": "scattergl"
           }
          ],
          "scattermap": [
           {
            "marker": {
             "colorbar": {
              "outlinewidth": 0,
              "ticks": ""
             }
            },
            "type": "scattermap"
           }
          ],
          "scattermapbox": [
           {
            "marker": {
             "colorbar": {
              "outlinewidth": 0,
              "ticks": ""
             }
            },
            "type": "scattermapbox"
           }
          ],
          "scatterpolar": [
           {
            "marker": {
             "colorbar": {
              "outlinewidth": 0,
              "ticks": ""
             }
            },
            "type": "scatterpolar"
           }
          ],
          "scatterpolargl": [
           {
            "marker": {
             "colorbar": {
              "outlinewidth": 0,
              "ticks": ""
             }
            },
            "type": "scatterpolargl"
           }
          ],
          "scatterternary": [
           {
            "marker": {
             "colorbar": {
              "outlinewidth": 0,
              "ticks": ""
             }
            },
            "type": "scatterternary"
           }
          ],
          "surface": [
           {
            "colorbar": {
             "outlinewidth": 0,
             "ticks": ""
            },
            "colorscale": [
             [
              0,
              "#0d0887"
             ],
             [
              0.1111111111111111,
              "#46039f"
             ],
             [
              0.2222222222222222,
              "#7201a8"
             ],
             [
              0.3333333333333333,
              "#9c179e"
             ],
             [
              0.4444444444444444,
              "#bd3786"
             ],
             [
              0.5555555555555556,
              "#d8576b"
             ],
             [
              0.6666666666666666,
              "#ed7953"
             ],
             [
              0.7777777777777778,
              "#fb9f3a"
             ],
             [
              0.8888888888888888,
              "#fdca26"
             ],
             [
              1,
              "#f0f921"
             ]
            ],
            "type": "surface"
           }
          ],
          "table": [
           {
            "cells": {
             "fill": {
              "color": "#EBF0F8"
             },
             "line": {
              "color": "white"
             }
            },
            "header": {
             "fill": {
              "color": "#C8D4E3"
             },
             "line": {
              "color": "white"
             }
            },
            "type": "table"
           }
          ]
         },
         "layout": {
          "annotationdefaults": {
           "arrowcolor": "#2a3f5f",
           "arrowhead": 0,
           "arrowwidth": 1
          },
          "autotypenumbers": "strict",
          "coloraxis": {
           "colorbar": {
            "outlinewidth": 0,
            "ticks": ""
           }
          },
          "colorscale": {
           "diverging": [
            [
             0,
             "#8e0152"
            ],
            [
             0.1,
             "#c51b7d"
            ],
            [
             0.2,
             "#de77ae"
            ],
            [
             0.3,
             "#f1b6da"
            ],
            [
             0.4,
             "#fde0ef"
            ],
            [
             0.5,
             "#f7f7f7"
            ],
            [
             0.6,
             "#e6f5d0"
            ],
            [
             0.7,
             "#b8e186"
            ],
            [
             0.8,
             "#7fbc41"
            ],
            [
             0.9,
             "#4d9221"
            ],
            [
             1,
             "#276419"
            ]
           ],
           "sequential": [
            [
             0,
             "#0d0887"
            ],
            [
             0.1111111111111111,
             "#46039f"
            ],
            [
             0.2222222222222222,
             "#7201a8"
            ],
            [
             0.3333333333333333,
             "#9c179e"
            ],
            [
             0.4444444444444444,
             "#bd3786"
            ],
            [
             0.5555555555555556,
             "#d8576b"
            ],
            [
             0.6666666666666666,
             "#ed7953"
            ],
            [
             0.7777777777777778,
             "#fb9f3a"
            ],
            [
             0.8888888888888888,
             "#fdca26"
            ],
            [
             1,
             "#f0f921"
            ]
           ],
           "sequentialminus": [
            [
             0,
             "#0d0887"
            ],
            [
             0.1111111111111111,
             "#46039f"
            ],
            [
             0.2222222222222222,
             "#7201a8"
            ],
            [
             0.3333333333333333,
             "#9c179e"
            ],
            [
             0.4444444444444444,
             "#bd3786"
            ],
            [
             0.5555555555555556,
             "#d8576b"
            ],
            [
             0.6666666666666666,
             "#ed7953"
            ],
            [
             0.7777777777777778,
             "#fb9f3a"
            ],
            [
             0.8888888888888888,
             "#fdca26"
            ],
            [
             1,
             "#f0f921"
            ]
           ]
          },
          "colorway": [
           "#636efa",
           "#EF553B",
           "#00cc96",
           "#ab63fa",
           "#FFA15A",
           "#19d3f3",
           "#FF6692",
           "#B6E880",
           "#FF97FF",
           "#FECB52"
          ],
          "font": {
           "color": "#2a3f5f"
          },
          "geo": {
           "bgcolor": "white",
           "lakecolor": "white",
           "landcolor": "#E5ECF6",
           "showlakes": true,
           "showland": true,
           "subunitcolor": "white"
          },
          "hoverlabel": {
           "align": "left"
          },
          "hovermode": "closest",
          "mapbox": {
           "style": "light"
          },
          "paper_bgcolor": "white",
          "plot_bgcolor": "#E5ECF6",
          "polar": {
           "angularaxis": {
            "gridcolor": "white",
            "linecolor": "white",
            "ticks": ""
           },
           "bgcolor": "#E5ECF6",
           "radialaxis": {
            "gridcolor": "white",
            "linecolor": "white",
            "ticks": ""
           }
          },
          "scene": {
           "xaxis": {
            "backgroundcolor": "#E5ECF6",
            "gridcolor": "white",
            "gridwidth": 2,
            "linecolor": "white",
            "showbackground": true,
            "ticks": "",
            "zerolinecolor": "white"
           },
           "yaxis": {
            "backgroundcolor": "#E5ECF6",
            "gridcolor": "white",
            "gridwidth": 2,
            "linecolor": "white",
            "showbackground": true,
            "ticks": "",
            "zerolinecolor": "white"
           },
           "zaxis": {
            "backgroundcolor": "#E5ECF6",
            "gridcolor": "white",
            "gridwidth": 2,
            "linecolor": "white",
            "showbackground": true,
            "ticks": "",
            "zerolinecolor": "white"
           }
          },
          "shapedefaults": {
           "line": {
            "color": "#2a3f5f"
           }
          },
          "ternary": {
           "aaxis": {
            "gridcolor": "white",
            "linecolor": "white",
            "ticks": ""
           },
           "baxis": {
            "gridcolor": "white",
            "linecolor": "white",
            "ticks": ""
           },
           "bgcolor": "#E5ECF6",
           "caxis": {
            "gridcolor": "white",
            "linecolor": "white",
            "ticks": ""
           }
          },
          "title": {
           "x": 0.05
          },
          "xaxis": {
           "automargin": true,
           "gridcolor": "white",
           "linecolor": "white",
           "ticks": "",
           "title": {
            "standoff": 15
           },
           "zerolinecolor": "white",
           "zerolinewidth": 2
          },
          "yaxis": {
           "automargin": true,
           "gridcolor": "white",
           "linecolor": "white",
           "ticks": "",
           "title": {
            "standoff": 15
           },
           "zerolinecolor": "white",
           "zerolinewidth": 2
          }
         }
        },
        "title": {
         "text": "BENCHMARK_INSULATION"
        },
        "xaxis": {
         "anchor": "y",
         "domain": [
          0,
          1
         ],
         "title": {
          "text": "index"
         }
        },
        "yaxis": {
         "anchor": "x",
         "domain": [
          0,
          1
         ],
         "title": {
          "text": "BENCHMARK_INSULATION"
         }
        }
       }
      }
     },
     "metadata": {},
     "output_type": "display_data"
    }
   ],
   "source": [
    "px.line(data, y=\"BENCHMARK_INSULATION\", title=\"BENCHMARK_INSULATION\")"
   ]
  },
  {
   "cell_type": "code",
   "execution_count": 32,
   "metadata": {},
   "outputs": [],
   "source": [
    "data.to_csv(\"data.csv\", index=False)"
   ]
  },
  {
   "cell_type": "code",
   "execution_count": null,
   "metadata": {},
   "outputs": [],
   "source": []
  }
 ],
 "metadata": {
  "kernelspec": {
   "display_name": "Python 3",
   "language": "python",
   "name": "python3"
  },
  "language_info": {
   "codemirror_mode": {
    "name": "ipython",
    "version": 3
   },
   "file_extension": ".py",
   "mimetype": "text/x-python",
   "name": "python",
   "nbconvert_exporter": "python",
   "pygments_lexer": "ipython3",
   "version": "3.12.2"
  }
 },
 "nbformat": 4,
 "nbformat_minor": 2
}
