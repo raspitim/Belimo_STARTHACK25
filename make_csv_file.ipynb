{
 "cells": [
  {
   "cell_type": "code",
   "execution_count": 1,
   "metadata": {},
   "outputs": [],
   "source": [
    "import pandas as pd\n",
    "import numpy as np\n",
    "# Read the CSV file\n",
    "#df = pd.read_csv('/Users/timruppert/Downloads/ev3_device_data_sample/part-00088-58f2f3e5-5d11-4f14-8571-b659c8d6e349-c000.csv').sort_values(by=\"year_month_day\").reset_index(drop=True)"
   ]
  },
  {
   "cell_type": "code",
   "execution_count": 2,
   "metadata": {},
   "outputs": [
    {
     "name": "stderr",
     "output_type": "stream",
     "text": [
      "/var/folders/17/0pmhnn217_j5hjgb2g8942c00000gn/T/ipykernel_78334/2436076384.py:12: FutureWarning: The behavior of DataFrame concatenation with empty or all-NA entries is deprecated. In a future version, this will no longer exclude empty or all-NA columns when determining the result dtypes. To retain the old behavior, exclude the relevant entries before the concat operation.\n",
      "  df = pd.concat([df, df_])\n"
     ]
    }
   ],
   "source": [
    "import os\n",
    "df = None\n",
    "directory = \"/Users/timruppert/Downloads/ev3_device_data_sample\"\n",
    "\n",
    "for filename in os.listdir(directory):\n",
    "    file_path = os.path.join(directory, filename)\n",
    "    if os.path.isfile(file_path) and file_path.endswith(\".csv\"):  # Ensure it's a file\n",
    "        df_ = pd.read_csv(file_path).sort_values(by=\"year_month_day\").reset_index(drop=True)\n",
    "        if df is None:\n",
    "            df = df_\n",
    "        else:\n",
    "            df = pd.concat([df, df_])\n"
   ]
  },
  {
   "cell_type": "code",
   "execution_count": 3,
   "metadata": {},
   "outputs": [
    {
     "data": {
      "text/html": [
       "<div>\n",
       "<style scoped>\n",
       "    .dataframe tbody tr th:only-of-type {\n",
       "        vertical-align: middle;\n",
       "    }\n",
       "\n",
       "    .dataframe tbody tr th {\n",
       "        vertical-align: top;\n",
       "    }\n",
       "\n",
       "    .dataframe thead th {\n",
       "        text-align: right;\n",
       "    }\n",
       "</style>\n",
       "<table border=\"1\" class=\"dataframe\">\n",
       "  <thead>\n",
       "    <tr style=\"text-align: right;\">\n",
       "      <th></th>\n",
       "      <th>device_id</th>\n",
       "      <th>dataprofile_id</th>\n",
       "      <th>cloud_received_time</th>\n",
       "      <th>sample_time</th>\n",
       "      <th>year</th>\n",
       "      <th>year_month</th>\n",
       "      <th>year_month_day</th>\n",
       "      <th>influx_migration_source_filename</th>\n",
       "      <th>T1_remote_K</th>\n",
       "      <th>T2_embeded_K</th>\n",
       "      <th>...</th>\n",
       "      <th>DDC_BUS_Sp_Write</th>\n",
       "      <th>dT_Manager_Ste</th>\n",
       "      <th>Active_dT_Manager_total_h</th>\n",
       "      <th>DeltaT_K</th>\n",
       "      <th>DDC_Sp_V</th>\n",
       "      <th>OperatingHours</th>\n",
       "      <th>Flow_Volume_total_m3</th>\n",
       "      <th>Y3AnalogInputValue</th>\n",
       "      <th>BENCHMARK_DELTA_T</th>\n",
       "      <th>total_energy_kWh</th>\n",
       "    </tr>\n",
       "  </thead>\n",
       "  <tbody>\n",
       "    <tr>\n",
       "      <th>0</th>\n",
       "      <td>1a9da8fa-6fa8-49f3-8aaa-420b34eefe57</td>\n",
       "      <td>energyvalve3/1.11</td>\n",
       "      <td>2020-04-01T20:14:00.402Z</td>\n",
       "      <td>2020-04-01T20:12:28.932Z</td>\n",
       "      <td>2020</td>\n",
       "      <td>202004</td>\n",
       "      <td>20200401</td>\n",
       "      <td>2020-04-01_20.gz</td>\n",
       "      <td>299.645876</td>\n",
       "      <td>298.100773</td>\n",
       "      <td>...</td>\n",
       "      <td>100.0</td>\n",
       "      <td>1.0</td>\n",
       "      <td>0.0</td>\n",
       "      <td>1.545103</td>\n",
       "      <td>0.030556</td>\n",
       "      <td>129.640983</td>\n",
       "      <td>12.764151</td>\n",
       "      <td>NaN</td>\n",
       "      <td>0.257517</td>\n",
       "      <td>112.829825</td>\n",
       "    </tr>\n",
       "    <tr>\n",
       "      <th>1</th>\n",
       "      <td>1a9da8fa-6fa8-49f3-8aaa-420b34eefe57</td>\n",
       "      <td>energyvalve3/1.11</td>\n",
       "      <td>2020-04-01T11:51:52.103Z</td>\n",
       "      <td>2020-04-01T11:49:20.051Z</td>\n",
       "      <td>2020</td>\n",
       "      <td>202004</td>\n",
       "      <td>20200401</td>\n",
       "      <td>2020-04-01_11.gz</td>\n",
       "      <td>312.811658</td>\n",
       "      <td>301.327577</td>\n",
       "      <td>...</td>\n",
       "      <td>100.0</td>\n",
       "      <td>1.0</td>\n",
       "      <td>0.0</td>\n",
       "      <td>11.484081</td>\n",
       "      <td>0.013170</td>\n",
       "      <td>121.255182</td>\n",
       "      <td>12.539092</td>\n",
       "      <td>NaN</td>\n",
       "      <td>1.914013</td>\n",
       "      <td>110.826892</td>\n",
       "    </tr>\n",
       "    <tr>\n",
       "      <th>2</th>\n",
       "      <td>1a9da8fa-6fa8-49f3-8aaa-420b34eefe57</td>\n",
       "      <td>energyvalve3/1.11</td>\n",
       "      <td>2020-04-01T17:03:11.698Z</td>\n",
       "      <td>2020-04-01T17:02:40.829Z</td>\n",
       "      <td>2020</td>\n",
       "      <td>202004</td>\n",
       "      <td>20200401</td>\n",
       "      <td>2020-04-01_17.gz</td>\n",
       "      <td>302.354639</td>\n",
       "      <td>298.791495</td>\n",
       "      <td>...</td>\n",
       "      <td>100.0</td>\n",
       "      <td>1.0</td>\n",
       "      <td>0.0</td>\n",
       "      <td>3.563144</td>\n",
       "      <td>0.013097</td>\n",
       "      <td>126.477611</td>\n",
       "      <td>12.763414</td>\n",
       "      <td>NaN</td>\n",
       "      <td>0.593857</td>\n",
       "      <td>112.827516</td>\n",
       "    </tr>\n",
       "    <tr>\n",
       "      <th>3</th>\n",
       "      <td>1a9da8fa-6fa8-49f3-8aaa-420b34eefe57</td>\n",
       "      <td>energyvalve3/1.11</td>\n",
       "      <td>2020-04-01T20:14:00.402Z</td>\n",
       "      <td>2020-04-01T20:10:28.468Z</td>\n",
       "      <td>2020</td>\n",
       "      <td>202004</td>\n",
       "      <td>20200401</td>\n",
       "      <td>2020-04-01_20.gz</td>\n",
       "      <td>299.676804</td>\n",
       "      <td>298.118814</td>\n",
       "      <td>...</td>\n",
       "      <td>100.0</td>\n",
       "      <td>1.0</td>\n",
       "      <td>0.0</td>\n",
       "      <td>1.557990</td>\n",
       "      <td>0.009448</td>\n",
       "      <td>129.607518</td>\n",
       "      <td>12.764151</td>\n",
       "      <td>NaN</td>\n",
       "      <td>0.259665</td>\n",
       "      <td>112.829825</td>\n",
       "    </tr>\n",
       "    <tr>\n",
       "      <th>4</th>\n",
       "      <td>1a9da8fa-6fa8-49f3-8aaa-420b34eefe57</td>\n",
       "      <td>energyvalve3/1.11</td>\n",
       "      <td>2020-04-01T16:23:01.503Z</td>\n",
       "      <td>2020-04-01T16:22:00.475Z</td>\n",
       "      <td>2020</td>\n",
       "      <td>202004</td>\n",
       "      <td>20200401</td>\n",
       "      <td>2020-04-01_16.gz</td>\n",
       "      <td>303.457732</td>\n",
       "      <td>299.026031</td>\n",
       "      <td>...</td>\n",
       "      <td>100.0</td>\n",
       "      <td>1.0</td>\n",
       "      <td>0.0</td>\n",
       "      <td>4.431701</td>\n",
       "      <td>0.037745</td>\n",
       "      <td>125.799725</td>\n",
       "      <td>12.763414</td>\n",
       "      <td>NaN</td>\n",
       "      <td>0.738617</td>\n",
       "      <td>112.827516</td>\n",
       "    </tr>\n",
       "    <tr>\n",
       "      <th>...</th>\n",
       "      <td>...</td>\n",
       "      <td>...</td>\n",
       "      <td>...</td>\n",
       "      <td>...</td>\n",
       "      <td>...</td>\n",
       "      <td>...</td>\n",
       "      <td>...</td>\n",
       "      <td>...</td>\n",
       "      <td>...</td>\n",
       "      <td>...</td>\n",
       "      <td>...</td>\n",
       "      <td>...</td>\n",
       "      <td>...</td>\n",
       "      <td>...</td>\n",
       "      <td>...</td>\n",
       "      <td>...</td>\n",
       "      <td>...</td>\n",
       "      <td>...</td>\n",
       "      <td>...</td>\n",
       "      <td>...</td>\n",
       "      <td>...</td>\n",
       "    </tr>\n",
       "    <tr>\n",
       "      <th>1831577</th>\n",
       "      <td>1a9da8fa-6fa8-49f3-8aaa-420b34eefe57</td>\n",
       "      <td>energyvalve3/1.11</td>\n",
       "      <td>2021-12-31T23:36:27.440Z</td>\n",
       "      <td>2021-12-31T23:33:25.403Z</td>\n",
       "      <td>2021</td>\n",
       "      <td>202112</td>\n",
       "      <td>20211231</td>\n",
       "      <td>2021-12-31_23.gz</td>\n",
       "      <td>295.514433</td>\n",
       "      <td>296.211598</td>\n",
       "      <td>...</td>\n",
       "      <td>100.0</td>\n",
       "      <td>1</td>\n",
       "      <td>0.0</td>\n",
       "      <td>0.697165</td>\n",
       "      <td>0.005715</td>\n",
       "      <td>15467.379226</td>\n",
       "      <td>992.990774</td>\n",
       "      <td>NaN</td>\n",
       "      <td>0.116194</td>\n",
       "      <td>9862.416917</td>\n",
       "    </tr>\n",
       "    <tr>\n",
       "      <th>1831578</th>\n",
       "      <td>1a9da8fa-6fa8-49f3-8aaa-420b34eefe57</td>\n",
       "      <td>energyvalve3/1.11</td>\n",
       "      <td>2021-12-31T23:26:23.571Z</td>\n",
       "      <td>2021-12-31T23:21:51.577Z</td>\n",
       "      <td>2021</td>\n",
       "      <td>202112</td>\n",
       "      <td>20211231</td>\n",
       "      <td>2021-12-31_23.gz</td>\n",
       "      <td>295.535052</td>\n",
       "      <td>296.139433</td>\n",
       "      <td>...</td>\n",
       "      <td>100.0</td>\n",
       "      <td>1</td>\n",
       "      <td>0.0</td>\n",
       "      <td>0.604381</td>\n",
       "      <td>0.005079</td>\n",
       "      <td>15467.186497</td>\n",
       "      <td>992.990774</td>\n",
       "      <td>NaN</td>\n",
       "      <td>0.100730</td>\n",
       "      <td>9862.416917</td>\n",
       "    </tr>\n",
       "    <tr>\n",
       "      <th>1831579</th>\n",
       "      <td>1a9da8fa-6fa8-49f3-8aaa-420b34eefe57</td>\n",
       "      <td>energyvalve3/1.11</td>\n",
       "      <td>2021-12-31T23:26:23.571Z</td>\n",
       "      <td>2021-12-31T23:24:52.605Z</td>\n",
       "      <td>2021</td>\n",
       "      <td>202112</td>\n",
       "      <td>20211231</td>\n",
       "      <td>2021-12-31_23.gz</td>\n",
       "      <td>295.524742</td>\n",
       "      <td>296.126546</td>\n",
       "      <td>...</td>\n",
       "      <td>100.0</td>\n",
       "      <td>1</td>\n",
       "      <td>0.0</td>\n",
       "      <td>0.601804</td>\n",
       "      <td>0.016179</td>\n",
       "      <td>15467.236707</td>\n",
       "      <td>992.990774</td>\n",
       "      <td>NaN</td>\n",
       "      <td>0.100301</td>\n",
       "      <td>9862.416917</td>\n",
       "    </tr>\n",
       "    <tr>\n",
       "      <th>1831580</th>\n",
       "      <td>1a9da8fa-6fa8-49f3-8aaa-420b34eefe57</td>\n",
       "      <td>energyvalve3/1.11</td>\n",
       "      <td>2021-12-31T23:21:22.283Z</td>\n",
       "      <td>2021-12-31T23:17:20.104Z</td>\n",
       "      <td>2021</td>\n",
       "      <td>202112</td>\n",
       "      <td>20211231</td>\n",
       "      <td>2021-12-31_23.gz</td>\n",
       "      <td>295.537629</td>\n",
       "      <td>296.142010</td>\n",
       "      <td>...</td>\n",
       "      <td>100.0</td>\n",
       "      <td>1</td>\n",
       "      <td>0.0</td>\n",
       "      <td>0.604381</td>\n",
       "      <td>0.032091</td>\n",
       "      <td>15467.111068</td>\n",
       "      <td>992.990774</td>\n",
       "      <td>NaN</td>\n",
       "      <td>0.100730</td>\n",
       "      <td>9862.416917</td>\n",
       "    </tr>\n",
       "    <tr>\n",
       "      <th>1831581</th>\n",
       "      <td>1a9da8fa-6fa8-49f3-8aaa-420b34eefe57</td>\n",
       "      <td>energyvalve3/1.11</td>\n",
       "      <td>2021-12-31T14:23:18.857Z</td>\n",
       "      <td>2021-12-31T14:20:16.961Z</td>\n",
       "      <td>2021</td>\n",
       "      <td>202112</td>\n",
       "      <td>20211231</td>\n",
       "      <td>2021-12-31_14.gz</td>\n",
       "      <td>295.867526</td>\n",
       "      <td>296.644588</td>\n",
       "      <td>...</td>\n",
       "      <td>100.0</td>\n",
       "      <td>1</td>\n",
       "      <td>0.0</td>\n",
       "      <td>0.777062</td>\n",
       "      <td>0.011370</td>\n",
       "      <td>15458.160151</td>\n",
       "      <td>992.990492</td>\n",
       "      <td>NaN</td>\n",
       "      <td>0.129510</td>\n",
       "      <td>9862.416682</td>\n",
       "    </tr>\n",
       "  </tbody>\n",
       "</table>\n",
       "<p>1831582 rows × 40 columns</p>\n",
       "</div>"
      ],
      "text/plain": [
       "                                    device_id     dataprofile_id  \\\n",
       "0        1a9da8fa-6fa8-49f3-8aaa-420b34eefe57  energyvalve3/1.11   \n",
       "1        1a9da8fa-6fa8-49f3-8aaa-420b34eefe57  energyvalve3/1.11   \n",
       "2        1a9da8fa-6fa8-49f3-8aaa-420b34eefe57  energyvalve3/1.11   \n",
       "3        1a9da8fa-6fa8-49f3-8aaa-420b34eefe57  energyvalve3/1.11   \n",
       "4        1a9da8fa-6fa8-49f3-8aaa-420b34eefe57  energyvalve3/1.11   \n",
       "...                                       ...                ...   \n",
       "1831577  1a9da8fa-6fa8-49f3-8aaa-420b34eefe57  energyvalve3/1.11   \n",
       "1831578  1a9da8fa-6fa8-49f3-8aaa-420b34eefe57  energyvalve3/1.11   \n",
       "1831579  1a9da8fa-6fa8-49f3-8aaa-420b34eefe57  energyvalve3/1.11   \n",
       "1831580  1a9da8fa-6fa8-49f3-8aaa-420b34eefe57  energyvalve3/1.11   \n",
       "1831581  1a9da8fa-6fa8-49f3-8aaa-420b34eefe57  energyvalve3/1.11   \n",
       "\n",
       "              cloud_received_time               sample_time  year year_month  \\\n",
       "0        2020-04-01T20:14:00.402Z  2020-04-01T20:12:28.932Z  2020     202004   \n",
       "1        2020-04-01T11:51:52.103Z  2020-04-01T11:49:20.051Z  2020     202004   \n",
       "2        2020-04-01T17:03:11.698Z  2020-04-01T17:02:40.829Z  2020     202004   \n",
       "3        2020-04-01T20:14:00.402Z  2020-04-01T20:10:28.468Z  2020     202004   \n",
       "4        2020-04-01T16:23:01.503Z  2020-04-01T16:22:00.475Z  2020     202004   \n",
       "...                           ...                       ...   ...        ...   \n",
       "1831577  2021-12-31T23:36:27.440Z  2021-12-31T23:33:25.403Z  2021     202112   \n",
       "1831578  2021-12-31T23:26:23.571Z  2021-12-31T23:21:51.577Z  2021     202112   \n",
       "1831579  2021-12-31T23:26:23.571Z  2021-12-31T23:24:52.605Z  2021     202112   \n",
       "1831580  2021-12-31T23:21:22.283Z  2021-12-31T23:17:20.104Z  2021     202112   \n",
       "1831581  2021-12-31T14:23:18.857Z  2021-12-31T14:20:16.961Z  2021     202112   \n",
       "\n",
       "        year_month_day influx_migration_source_filename  T1_remote_K  \\\n",
       "0             20200401                 2020-04-01_20.gz   299.645876   \n",
       "1             20200401                 2020-04-01_11.gz   312.811658   \n",
       "2             20200401                 2020-04-01_17.gz   302.354639   \n",
       "3             20200401                 2020-04-01_20.gz   299.676804   \n",
       "4             20200401                 2020-04-01_16.gz   303.457732   \n",
       "...                ...                              ...          ...   \n",
       "1831577       20211231                 2021-12-31_23.gz   295.514433   \n",
       "1831578       20211231                 2021-12-31_23.gz   295.535052   \n",
       "1831579       20211231                 2021-12-31_23.gz   295.524742   \n",
       "1831580       20211231                 2021-12-31_23.gz   295.537629   \n",
       "1831581       20211231                 2021-12-31_14.gz   295.867526   \n",
       "\n",
       "         T2_embeded_K  ...  DDC_BUS_Sp_Write  dT_Manager_Ste  \\\n",
       "0          298.100773  ...             100.0             1.0   \n",
       "1          301.327577  ...             100.0             1.0   \n",
       "2          298.791495  ...             100.0             1.0   \n",
       "3          298.118814  ...             100.0             1.0   \n",
       "4          299.026031  ...             100.0             1.0   \n",
       "...               ...  ...               ...             ...   \n",
       "1831577    296.211598  ...             100.0               1   \n",
       "1831578    296.139433  ...             100.0               1   \n",
       "1831579    296.126546  ...             100.0               1   \n",
       "1831580    296.142010  ...             100.0               1   \n",
       "1831581    296.644588  ...             100.0               1   \n",
       "\n",
       "         Active_dT_Manager_total_h   DeltaT_K  DDC_Sp_V  OperatingHours  \\\n",
       "0                              0.0   1.545103  0.030556      129.640983   \n",
       "1                              0.0  11.484081  0.013170      121.255182   \n",
       "2                              0.0   3.563144  0.013097      126.477611   \n",
       "3                              0.0   1.557990  0.009448      129.607518   \n",
       "4                              0.0   4.431701  0.037745      125.799725   \n",
       "...                            ...        ...       ...             ...   \n",
       "1831577                        0.0   0.697165  0.005715    15467.379226   \n",
       "1831578                        0.0   0.604381  0.005079    15467.186497   \n",
       "1831579                        0.0   0.601804  0.016179    15467.236707   \n",
       "1831580                        0.0   0.604381  0.032091    15467.111068   \n",
       "1831581                        0.0   0.777062  0.011370    15458.160151   \n",
       "\n",
       "        Flow_Volume_total_m3  Y3AnalogInputValue  BENCHMARK_DELTA_T  \\\n",
       "0                  12.764151                 NaN           0.257517   \n",
       "1                  12.539092                 NaN           1.914013   \n",
       "2                  12.763414                 NaN           0.593857   \n",
       "3                  12.764151                 NaN           0.259665   \n",
       "4                  12.763414                 NaN           0.738617   \n",
       "...                      ...                 ...                ...   \n",
       "1831577           992.990774                 NaN           0.116194   \n",
       "1831578           992.990774                 NaN           0.100730   \n",
       "1831579           992.990774                 NaN           0.100301   \n",
       "1831580           992.990774                 NaN           0.100730   \n",
       "1831581           992.990492                 NaN           0.129510   \n",
       "\n",
       "        total_energy_kWh  \n",
       "0             112.829825  \n",
       "1             110.826892  \n",
       "2             112.827516  \n",
       "3             112.829825  \n",
       "4             112.827516  \n",
       "...                  ...  \n",
       "1831577      9862.416917  \n",
       "1831578      9862.416917  \n",
       "1831579      9862.416917  \n",
       "1831580      9862.416917  \n",
       "1831581      9862.416682  \n",
       "\n",
       "[1831582 rows x 40 columns]"
      ]
     },
     "execution_count": 3,
     "metadata": {},
     "output_type": "execute_result"
    }
   ],
   "source": [
    "df = df.sort_values(by=\"year_month_day\")\n",
    "df = df.reset_index(drop=True)\n",
    "\n",
    "df['BENCHMARK_DELTA_T'] = (df['DeltaT_K']) / df['SpDeltaT_applied_K']\n",
    "df[\"total_energy_kWh\"] = (df[\"Heating_E_J\"] + df[\"Cooling_E_J\"]) / 3600000\n",
    "df"
   ]
  },
  {
   "cell_type": "code",
   "execution_count": 4,
   "metadata": {},
   "outputs": [],
   "source": [
    "from datetime import datetime\n",
    "import random\n",
    "prev_T_out = 273.15 + 20 + random.randint(-20, 20)/10\n",
    "prev_T_in = 273.15 + 21 + random.randint(-5, 5)/10\n",
    "prev_entry = df.index[0]\n",
    "for entry in df.index[1:]:\n",
    "    \n",
    "    \n",
    "    dt = (datetime.strptime(df.loc[entry, \"sample_time\"], \"%Y-%m-%d %H:%M:%S\") - datetime.strptime(df.loc[prev_entry, \"sample_time\"], \"%Y-%m-%d %H:%M:%S\")).total_seconds()\n",
    "\n",
    "    T_out = prev_T_out + random.randint(-20, 20)/10\n",
    "    T_in = prev_T_in + 0.5*(T_out-prev_T_out)\n",
    "    df.loc[entry, \"T_in\"] = float(T_in)\n",
    "    df.loc[entry, \"T_out\"] = float(T_out)\n",
    "\n",
    "    T_in_prime = prev_T_in + 0.5*(T_out-prev_T_out)\n",
    "\n",
    "    df.loc[entry, \"T_in_prime\"] = float(T_in_prime)\n",
    "\n",
    "    prev_T_out = T_out\n",
    "    prev_T_in = T_in\n",
    "    prev_entry = entry\n"
   ]
  },
  {
   "cell_type": "code",
   "execution_count": 5,
   "metadata": {},
   "outputs": [],
   "source": [
    "from models.parameter_identification import identify_parameters\n",
    "def inoutagg(T_in, T_out, T_set = None):\n",
    "    if not T_set:\n",
    "        T_set = np.array([273.15 + 21 for i in range(len(T_in))])\n",
    "    return identify_parameters(T_in, T_set, T_out)[1]"
   ]
  },
  {
   "cell_type": "code",
   "execution_count": 6,
   "metadata": {},
   "outputs": [
    {
     "ename": "KeyError",
     "evalue": "\"Column(s) ['T_in_out'] do not exist\"",
     "output_type": "error",
     "traceback": [
      "\u001b[0;31m---------------------------------------------------------------------------\u001b[0m",
      "\u001b[0;31mKeyError\u001b[0m                                  Traceback (most recent call last)",
      "Cell \u001b[0;32mIn[6], line 1\u001b[0m\n\u001b[0;32m----> 1\u001b[0m lst \u001b[38;5;241m=\u001b[39m \u001b[43mdf\u001b[49m\u001b[38;5;241;43m.\u001b[39;49m\u001b[43mgroupby\u001b[49m\u001b[43m(\u001b[49m\u001b[38;5;124;43m'\u001b[39;49m\u001b[38;5;124;43myear_month_day\u001b[39;49m\u001b[38;5;124;43m'\u001b[39;49m\u001b[43m)\u001b[49m\u001b[38;5;241;43m.\u001b[39;49m\u001b[43magg\u001b[49m\u001b[43m(\u001b[49m\u001b[43m{\u001b[49m\u001b[38;5;124;43m'\u001b[39;49m\u001b[38;5;124;43mBENCHMARK_DELTA_T\u001b[39;49m\u001b[38;5;124;43m'\u001b[39;49m\u001b[43m:\u001b[49m\u001b[43m \u001b[49m\u001b[38;5;124;43m'\u001b[39;49m\u001b[38;5;124;43mmean\u001b[39;49m\u001b[38;5;124;43m'\u001b[39;49m\u001b[43m,\u001b[49m\u001b[43m \u001b[49m\u001b[38;5;124;43m'\u001b[39;49m\u001b[38;5;124;43mtotal_energy_kWh\u001b[39;49m\u001b[38;5;124;43m'\u001b[39;49m\u001b[43m:\u001b[49m\u001b[43m \u001b[49m\u001b[43m[\u001b[49m\u001b[38;5;124;43m'\u001b[39;49m\u001b[38;5;124;43mmin\u001b[39;49m\u001b[38;5;124;43m'\u001b[39;49m\u001b[43m,\u001b[49m\u001b[43m \u001b[49m\u001b[38;5;124;43m'\u001b[39;49m\u001b[38;5;124;43mmax\u001b[39;49m\u001b[38;5;124;43m'\u001b[39;49m\u001b[43m]\u001b[49m\u001b[43m,\u001b[49m\u001b[43m \u001b[49m\u001b[38;5;124;43m\"\u001b[39;49m\u001b[38;5;124;43mT_in_out\u001b[39;49m\u001b[38;5;124;43m\"\u001b[39;49m\u001b[43m:\u001b[49m\u001b[43m \u001b[49m\u001b[43minoutagg\u001b[49m\u001b[43m}\u001b[49m\u001b[43m)\u001b[49m\u001b[38;5;241m.\u001b[39mreset_index()\n\u001b[1;32m      2\u001b[0m lst[(\u001b[38;5;124m'\u001b[39m\u001b[38;5;124mtotal_energy_kWh\u001b[39m\u001b[38;5;124m'\u001b[39m, \u001b[38;5;124m'\u001b[39m\u001b[38;5;124mdiff\u001b[39m\u001b[38;5;124m'\u001b[39m)] \u001b[38;5;241m=\u001b[39m lst[(\u001b[38;5;124m'\u001b[39m\u001b[38;5;124mtotal_energy_kWh\u001b[39m\u001b[38;5;124m'\u001b[39m, \u001b[38;5;124m'\u001b[39m\u001b[38;5;124mmax\u001b[39m\u001b[38;5;124m'\u001b[39m)] \u001b[38;5;241m-\u001b[39m lst[(\u001b[38;5;124m'\u001b[39m\u001b[38;5;124mtotal_energy_kWh\u001b[39m\u001b[38;5;124m'\u001b[39m, \u001b[38;5;124m'\u001b[39m\u001b[38;5;124mmin\u001b[39m\u001b[38;5;124m'\u001b[39m)]\n",
      "File \u001b[0;32m/Library/Frameworks/Python.framework/Versions/3.12/lib/python3.12/site-packages/pandas/core/groupby/generic.py:1432\u001b[0m, in \u001b[0;36mDataFrameGroupBy.aggregate\u001b[0;34m(self, func, engine, engine_kwargs, *args, **kwargs)\u001b[0m\n\u001b[1;32m   1429\u001b[0m     kwargs[\u001b[38;5;124m\"\u001b[39m\u001b[38;5;124mengine_kwargs\u001b[39m\u001b[38;5;124m\"\u001b[39m] \u001b[38;5;241m=\u001b[39m engine_kwargs\n\u001b[1;32m   1431\u001b[0m op \u001b[38;5;241m=\u001b[39m GroupByApply(\u001b[38;5;28mself\u001b[39m, func, args\u001b[38;5;241m=\u001b[39margs, kwargs\u001b[38;5;241m=\u001b[39mkwargs)\n\u001b[0;32m-> 1432\u001b[0m result \u001b[38;5;241m=\u001b[39m \u001b[43mop\u001b[49m\u001b[38;5;241;43m.\u001b[39;49m\u001b[43magg\u001b[49m\u001b[43m(\u001b[49m\u001b[43m)\u001b[49m\n\u001b[1;32m   1433\u001b[0m \u001b[38;5;28;01mif\u001b[39;00m \u001b[38;5;129;01mnot\u001b[39;00m is_dict_like(func) \u001b[38;5;129;01mand\u001b[39;00m result \u001b[38;5;129;01mis\u001b[39;00m \u001b[38;5;129;01mnot\u001b[39;00m \u001b[38;5;28;01mNone\u001b[39;00m:\n\u001b[1;32m   1434\u001b[0m     \u001b[38;5;66;03m# GH #52849\u001b[39;00m\n\u001b[1;32m   1435\u001b[0m     \u001b[38;5;28;01mif\u001b[39;00m \u001b[38;5;129;01mnot\u001b[39;00m \u001b[38;5;28mself\u001b[39m\u001b[38;5;241m.\u001b[39mas_index \u001b[38;5;129;01mand\u001b[39;00m is_list_like(func):\n",
      "File \u001b[0;32m/Library/Frameworks/Python.framework/Versions/3.12/lib/python3.12/site-packages/pandas/core/apply.py:190\u001b[0m, in \u001b[0;36mApply.agg\u001b[0;34m(self)\u001b[0m\n\u001b[1;32m    187\u001b[0m     \u001b[38;5;28;01mreturn\u001b[39;00m \u001b[38;5;28mself\u001b[39m\u001b[38;5;241m.\u001b[39mapply_str()\n\u001b[1;32m    189\u001b[0m \u001b[38;5;28;01mif\u001b[39;00m is_dict_like(func):\n\u001b[0;32m--> 190\u001b[0m     \u001b[38;5;28;01mreturn\u001b[39;00m \u001b[38;5;28;43mself\u001b[39;49m\u001b[38;5;241;43m.\u001b[39;49m\u001b[43magg_dict_like\u001b[49m\u001b[43m(\u001b[49m\u001b[43m)\u001b[49m\n\u001b[1;32m    191\u001b[0m \u001b[38;5;28;01melif\u001b[39;00m is_list_like(func):\n\u001b[1;32m    192\u001b[0m     \u001b[38;5;66;03m# we require a list, but not a 'str'\u001b[39;00m\n\u001b[1;32m    193\u001b[0m     \u001b[38;5;28;01mreturn\u001b[39;00m \u001b[38;5;28mself\u001b[39m\u001b[38;5;241m.\u001b[39magg_list_like()\n",
      "File \u001b[0;32m/Library/Frameworks/Python.framework/Versions/3.12/lib/python3.12/site-packages/pandas/core/apply.py:423\u001b[0m, in \u001b[0;36mApply.agg_dict_like\u001b[0;34m(self)\u001b[0m\n\u001b[1;32m    415\u001b[0m \u001b[38;5;28;01mdef\u001b[39;00m \u001b[38;5;21magg_dict_like\u001b[39m(\u001b[38;5;28mself\u001b[39m) \u001b[38;5;241m-\u001b[39m\u001b[38;5;241m>\u001b[39m DataFrame \u001b[38;5;241m|\u001b[39m Series:\n\u001b[1;32m    416\u001b[0m \u001b[38;5;250m    \u001b[39m\u001b[38;5;124;03m\"\"\"\u001b[39;00m\n\u001b[1;32m    417\u001b[0m \u001b[38;5;124;03m    Compute aggregation in the case of a dict-like argument.\u001b[39;00m\n\u001b[1;32m    418\u001b[0m \n\u001b[0;32m   (...)\u001b[0m\n\u001b[1;32m    421\u001b[0m \u001b[38;5;124;03m    Result of aggregation.\u001b[39;00m\n\u001b[1;32m    422\u001b[0m \u001b[38;5;124;03m    \"\"\"\u001b[39;00m\n\u001b[0;32m--> 423\u001b[0m     \u001b[38;5;28;01mreturn\u001b[39;00m \u001b[38;5;28;43mself\u001b[39;49m\u001b[38;5;241;43m.\u001b[39;49m\u001b[43magg_or_apply_dict_like\u001b[49m\u001b[43m(\u001b[49m\u001b[43mop_name\u001b[49m\u001b[38;5;241;43m=\u001b[39;49m\u001b[38;5;124;43m\"\u001b[39;49m\u001b[38;5;124;43magg\u001b[39;49m\u001b[38;5;124;43m\"\u001b[39;49m\u001b[43m)\u001b[49m\n",
      "File \u001b[0;32m/Library/Frameworks/Python.framework/Versions/3.12/lib/python3.12/site-packages/pandas/core/apply.py:1608\u001b[0m, in \u001b[0;36mGroupByApply.agg_or_apply_dict_like\u001b[0;34m(self, op_name)\u001b[0m\n\u001b[1;32m   1603\u001b[0m     kwargs\u001b[38;5;241m.\u001b[39mupdate({\u001b[38;5;124m\"\u001b[39m\u001b[38;5;124mengine\u001b[39m\u001b[38;5;124m\"\u001b[39m: engine, \u001b[38;5;124m\"\u001b[39m\u001b[38;5;124mengine_kwargs\u001b[39m\u001b[38;5;124m\"\u001b[39m: engine_kwargs})\n\u001b[1;32m   1605\u001b[0m \u001b[38;5;28;01mwith\u001b[39;00m com\u001b[38;5;241m.\u001b[39mtemp_setattr(\n\u001b[1;32m   1606\u001b[0m     obj, \u001b[38;5;124m\"\u001b[39m\u001b[38;5;124mas_index\u001b[39m\u001b[38;5;124m\"\u001b[39m, \u001b[38;5;28;01mTrue\u001b[39;00m, condition\u001b[38;5;241m=\u001b[39m\u001b[38;5;28mhasattr\u001b[39m(obj, \u001b[38;5;124m\"\u001b[39m\u001b[38;5;124mas_index\u001b[39m\u001b[38;5;124m\"\u001b[39m)\n\u001b[1;32m   1607\u001b[0m ):\n\u001b[0;32m-> 1608\u001b[0m     result_index, result_data \u001b[38;5;241m=\u001b[39m \u001b[38;5;28;43mself\u001b[39;49m\u001b[38;5;241;43m.\u001b[39;49m\u001b[43mcompute_dict_like\u001b[49m\u001b[43m(\u001b[49m\n\u001b[1;32m   1609\u001b[0m \u001b[43m        \u001b[49m\u001b[43mop_name\u001b[49m\u001b[43m,\u001b[49m\u001b[43m \u001b[49m\u001b[43mselected_obj\u001b[49m\u001b[43m,\u001b[49m\u001b[43m \u001b[49m\u001b[43mselection\u001b[49m\u001b[43m,\u001b[49m\u001b[43m \u001b[49m\u001b[43mkwargs\u001b[49m\n\u001b[1;32m   1610\u001b[0m \u001b[43m    \u001b[49m\u001b[43m)\u001b[49m\n\u001b[1;32m   1611\u001b[0m result \u001b[38;5;241m=\u001b[39m \u001b[38;5;28mself\u001b[39m\u001b[38;5;241m.\u001b[39mwrap_results_dict_like(selected_obj, result_index, result_data)\n\u001b[1;32m   1612\u001b[0m \u001b[38;5;28;01mreturn\u001b[39;00m result\n",
      "File \u001b[0;32m/Library/Frameworks/Python.framework/Versions/3.12/lib/python3.12/site-packages/pandas/core/apply.py:462\u001b[0m, in \u001b[0;36mApply.compute_dict_like\u001b[0;34m(self, op_name, selected_obj, selection, kwargs)\u001b[0m\n\u001b[1;32m    460\u001b[0m is_groupby \u001b[38;5;241m=\u001b[39m \u001b[38;5;28misinstance\u001b[39m(obj, (DataFrameGroupBy, SeriesGroupBy))\n\u001b[1;32m    461\u001b[0m func \u001b[38;5;241m=\u001b[39m cast(AggFuncTypeDict, \u001b[38;5;28mself\u001b[39m\u001b[38;5;241m.\u001b[39mfunc)\n\u001b[0;32m--> 462\u001b[0m func \u001b[38;5;241m=\u001b[39m \u001b[38;5;28;43mself\u001b[39;49m\u001b[38;5;241;43m.\u001b[39;49m\u001b[43mnormalize_dictlike_arg\u001b[49m\u001b[43m(\u001b[49m\u001b[43mop_name\u001b[49m\u001b[43m,\u001b[49m\u001b[43m \u001b[49m\u001b[43mselected_obj\u001b[49m\u001b[43m,\u001b[49m\u001b[43m \u001b[49m\u001b[43mfunc\u001b[49m\u001b[43m)\u001b[49m\n\u001b[1;32m    464\u001b[0m is_non_unique_col \u001b[38;5;241m=\u001b[39m (\n\u001b[1;32m    465\u001b[0m     selected_obj\u001b[38;5;241m.\u001b[39mndim \u001b[38;5;241m==\u001b[39m \u001b[38;5;241m2\u001b[39m\n\u001b[1;32m    466\u001b[0m     \u001b[38;5;129;01mand\u001b[39;00m selected_obj\u001b[38;5;241m.\u001b[39mcolumns\u001b[38;5;241m.\u001b[39mnunique() \u001b[38;5;241m<\u001b[39m \u001b[38;5;28mlen\u001b[39m(selected_obj\u001b[38;5;241m.\u001b[39mcolumns)\n\u001b[1;32m    467\u001b[0m )\n\u001b[1;32m    469\u001b[0m \u001b[38;5;28;01mif\u001b[39;00m selected_obj\u001b[38;5;241m.\u001b[39mndim \u001b[38;5;241m==\u001b[39m \u001b[38;5;241m1\u001b[39m:\n\u001b[1;32m    470\u001b[0m     \u001b[38;5;66;03m# key only used for output\u001b[39;00m\n",
      "File \u001b[0;32m/Library/Frameworks/Python.framework/Versions/3.12/lib/python3.12/site-packages/pandas/core/apply.py:663\u001b[0m, in \u001b[0;36mApply.normalize_dictlike_arg\u001b[0;34m(self, how, obj, func)\u001b[0m\n\u001b[1;32m    661\u001b[0m     cols \u001b[38;5;241m=\u001b[39m Index(\u001b[38;5;28mlist\u001b[39m(func\u001b[38;5;241m.\u001b[39mkeys()))\u001b[38;5;241m.\u001b[39mdifference(obj\u001b[38;5;241m.\u001b[39mcolumns, sort\u001b[38;5;241m=\u001b[39m\u001b[38;5;28;01mTrue\u001b[39;00m)\n\u001b[1;32m    662\u001b[0m     \u001b[38;5;28;01mif\u001b[39;00m \u001b[38;5;28mlen\u001b[39m(cols) \u001b[38;5;241m>\u001b[39m \u001b[38;5;241m0\u001b[39m:\n\u001b[0;32m--> 663\u001b[0m         \u001b[38;5;28;01mraise\u001b[39;00m \u001b[38;5;167;01mKeyError\u001b[39;00m(\u001b[38;5;124mf\u001b[39m\u001b[38;5;124m\"\u001b[39m\u001b[38;5;124mColumn(s) \u001b[39m\u001b[38;5;132;01m{\u001b[39;00m\u001b[38;5;28mlist\u001b[39m(cols)\u001b[38;5;132;01m}\u001b[39;00m\u001b[38;5;124m do not exist\u001b[39m\u001b[38;5;124m\"\u001b[39m)\n\u001b[1;32m    665\u001b[0m aggregator_types \u001b[38;5;241m=\u001b[39m (\u001b[38;5;28mlist\u001b[39m, \u001b[38;5;28mtuple\u001b[39m, \u001b[38;5;28mdict\u001b[39m)\n\u001b[1;32m    667\u001b[0m \u001b[38;5;66;03m# if we have a dict of any non-scalars\u001b[39;00m\n\u001b[1;32m    668\u001b[0m \u001b[38;5;66;03m# eg. {'A' : ['mean']}, normalize all to\u001b[39;00m\n\u001b[1;32m    669\u001b[0m \u001b[38;5;66;03m# be list-likes\u001b[39;00m\n\u001b[1;32m    670\u001b[0m \u001b[38;5;66;03m# Cannot use func.values() because arg may be a Series\u001b[39;00m\n",
      "\u001b[0;31mKeyError\u001b[0m: \"Column(s) ['T_in_out'] do not exist\""
     ]
    }
   ],
   "source": [
    "\n",
    "lst = df.groupby('year_month_day').agg({'BENCHMARK_DELTA_T': 'mean', 'total_energy_kWh': ['min', 'max'], \"T_in_out\": inoutagg}).reset_index()\n",
    "lst[('total_energy_kWh', 'diff')] = lst[('total_energy_kWh', 'max')] - lst[('total_energy_kWh', 'min')]\n",
    "\n",
    "\n",
    "\n"
   ]
  },
  {
   "cell_type": "code",
   "execution_count": null,
   "metadata": {},
   "outputs": [],
   "source": []
  },
  {
   "cell_type": "code",
   "execution_count": 29,
   "metadata": {},
   "outputs": [
    {
     "data": {
      "text/html": [
       "<div>\n",
       "<style scoped>\n",
       "    .dataframe tbody tr th:only-of-type {\n",
       "        vertical-align: middle;\n",
       "    }\n",
       "\n",
       "    .dataframe tbody tr th {\n",
       "        vertical-align: top;\n",
       "    }\n",
       "\n",
       "    .dataframe thead tr th {\n",
       "        text-align: left;\n",
       "    }\n",
       "</style>\n",
       "<table border=\"1\" class=\"dataframe\">\n",
       "  <thead>\n",
       "    <tr>\n",
       "      <th></th>\n",
       "      <th>year_month_day</th>\n",
       "      <th>BENCHMARK_DELTA_T</th>\n",
       "      <th colspan=\"3\" halign=\"left\">total_energy_kWh</th>\n",
       "    </tr>\n",
       "    <tr>\n",
       "      <th></th>\n",
       "      <th></th>\n",
       "      <th>mean</th>\n",
       "      <th>min</th>\n",
       "      <th>max</th>\n",
       "      <th>diff</th>\n",
       "    </tr>\n",
       "  </thead>\n",
       "  <tbody>\n",
       "    <tr>\n",
       "      <th>0</th>\n",
       "      <td>20200401</td>\n",
       "      <td>0.683374</td>\n",
       "      <td>110.552574</td>\n",
       "      <td>112.829849</td>\n",
       "      <td>2.277275</td>\n",
       "    </tr>\n",
       "    <tr>\n",
       "      <th>1</th>\n",
       "      <td>20200402</td>\n",
       "      <td>0.740721</td>\n",
       "      <td>112.829849</td>\n",
       "      <td>149.562795</td>\n",
       "      <td>36.732946</td>\n",
       "    </tr>\n",
       "    <tr>\n",
       "      <th>2</th>\n",
       "      <td>20200403</td>\n",
       "      <td>0.530163</td>\n",
       "      <td>149.562795</td>\n",
       "      <td>175.609075</td>\n",
       "      <td>26.046279</td>\n",
       "    </tr>\n",
       "    <tr>\n",
       "      <th>3</th>\n",
       "      <td>20200404</td>\n",
       "      <td>0.104082</td>\n",
       "      <td>175.609075</td>\n",
       "      <td>175.609171</td>\n",
       "      <td>0.000097</td>\n",
       "    </tr>\n",
       "    <tr>\n",
       "      <th>4</th>\n",
       "      <td>20200405</td>\n",
       "      <td>0.124728</td>\n",
       "      <td>175.609171</td>\n",
       "      <td>175.613691</td>\n",
       "      <td>0.004519</td>\n",
       "    </tr>\n",
       "    <tr>\n",
       "      <th>...</th>\n",
       "      <td>...</td>\n",
       "      <td>...</td>\n",
       "      <td>...</td>\n",
       "      <td>...</td>\n",
       "      <td>...</td>\n",
       "    </tr>\n",
       "    <tr>\n",
       "      <th>635</th>\n",
       "      <td>20211227</td>\n",
       "      <td>0.122020</td>\n",
       "      <td>9862.413857</td>\n",
       "      <td>9862.413871</td>\n",
       "      <td>0.000014</td>\n",
       "    </tr>\n",
       "    <tr>\n",
       "      <th>636</th>\n",
       "      <td>20211228</td>\n",
       "      <td>0.123328</td>\n",
       "      <td>9862.413871</td>\n",
       "      <td>9862.414011</td>\n",
       "      <td>0.000140</td>\n",
       "    </tr>\n",
       "    <tr>\n",
       "      <th>637</th>\n",
       "      <td>20211229</td>\n",
       "      <td>0.118200</td>\n",
       "      <td>9862.414011</td>\n",
       "      <td>9862.414040</td>\n",
       "      <td>0.000029</td>\n",
       "    </tr>\n",
       "    <tr>\n",
       "      <th>638</th>\n",
       "      <td>20211230</td>\n",
       "      <td>0.121759</td>\n",
       "      <td>9862.414040</td>\n",
       "      <td>9862.415331</td>\n",
       "      <td>0.001291</td>\n",
       "    </tr>\n",
       "    <tr>\n",
       "      <th>639</th>\n",
       "      <td>20211231</td>\n",
       "      <td>0.118456</td>\n",
       "      <td>9862.415331</td>\n",
       "      <td>9862.416917</td>\n",
       "      <td>0.001585</td>\n",
       "    </tr>\n",
       "  </tbody>\n",
       "</table>\n",
       "<p>640 rows × 5 columns</p>\n",
       "</div>"
      ],
      "text/plain": [
       "    year_month_day BENCHMARK_DELTA_T total_energy_kWh                        \n",
       "                                mean              min          max       diff\n",
       "0         20200401          0.683374       110.552574   112.829849   2.277275\n",
       "1         20200402          0.740721       112.829849   149.562795  36.732946\n",
       "2         20200403          0.530163       149.562795   175.609075  26.046279\n",
       "3         20200404          0.104082       175.609075   175.609171   0.000097\n",
       "4         20200405          0.124728       175.609171   175.613691   0.004519\n",
       "..             ...               ...              ...          ...        ...\n",
       "635       20211227          0.122020      9862.413857  9862.413871   0.000014\n",
       "636       20211228          0.123328      9862.413871  9862.414011   0.000140\n",
       "637       20211229          0.118200      9862.414011  9862.414040   0.000029\n",
       "638       20211230          0.121759      9862.414040  9862.415331   0.001291\n",
       "639       20211231          0.118456      9862.415331  9862.416917   0.001585\n",
       "\n",
       "[640 rows x 5 columns]"
      ]
     },
     "execution_count": 29,
     "metadata": {},
     "output_type": "execute_result"
    }
   ],
   "source": [
    "lst = lst.sort_values(by=\"year_month_day\")\n",
    "lst"
   ]
  },
  {
   "cell_type": "code",
   "execution_count": 25,
   "metadata": {},
   "outputs": [],
   "source": [
    "A = 1000 # m2"
   ]
  },
  {
   "cell_type": "code",
   "execution_count": 26,
   "metadata": {},
   "outputs": [
    {
     "data": {
      "text/html": [
       "<div>\n",
       "<style scoped>\n",
       "    .dataframe tbody tr th:only-of-type {\n",
       "        vertical-align: middle;\n",
       "    }\n",
       "\n",
       "    .dataframe tbody tr th {\n",
       "        vertical-align: top;\n",
       "    }\n",
       "\n",
       "    .dataframe thead th {\n",
       "        text-align: right;\n",
       "    }\n",
       "</style>\n",
       "<table border=\"1\" class=\"dataframe\">\n",
       "  <thead>\n",
       "    <tr style=\"text-align: right;\">\n",
       "      <th></th>\n",
       "      <th>year_month_day</th>\n",
       "      <th>BENCHMARK_EPI</th>\n",
       "      <th>BENCHMARK_DELTA_T</th>\n",
       "    </tr>\n",
       "  </thead>\n",
       "  <tbody>\n",
       "    <tr>\n",
       "      <th>0</th>\n",
       "      <td>20200401</td>\n",
       "      <td>19.948933</td>\n",
       "      <td>0.683374</td>\n",
       "    </tr>\n",
       "    <tr>\n",
       "      <th>1</th>\n",
       "      <td>20200402</td>\n",
       "      <td>321.780607</td>\n",
       "      <td>0.740721</td>\n",
       "    </tr>\n",
       "    <tr>\n",
       "      <th>2</th>\n",
       "      <td>20200403</td>\n",
       "      <td>228.165407</td>\n",
       "      <td>0.530163</td>\n",
       "    </tr>\n",
       "    <tr>\n",
       "      <th>3</th>\n",
       "      <td>20200404</td>\n",
       "      <td>0.000847</td>\n",
       "      <td>0.104082</td>\n",
       "    </tr>\n",
       "    <tr>\n",
       "      <th>4</th>\n",
       "      <td>20200405</td>\n",
       "      <td>0.039588</td>\n",
       "      <td>0.124728</td>\n",
       "    </tr>\n",
       "    <tr>\n",
       "      <th>...</th>\n",
       "      <td>...</td>\n",
       "      <td>...</td>\n",
       "      <td>...</td>\n",
       "    </tr>\n",
       "    <tr>\n",
       "      <th>635</th>\n",
       "      <td>20211227</td>\n",
       "      <td>0.000123</td>\n",
       "      <td>0.122020</td>\n",
       "    </tr>\n",
       "    <tr>\n",
       "      <th>636</th>\n",
       "      <td>20211228</td>\n",
       "      <td>0.001224</td>\n",
       "      <td>0.123328</td>\n",
       "    </tr>\n",
       "    <tr>\n",
       "      <th>637</th>\n",
       "      <td>20211229</td>\n",
       "      <td>0.000252</td>\n",
       "      <td>0.118200</td>\n",
       "    </tr>\n",
       "    <tr>\n",
       "      <th>638</th>\n",
       "      <td>20211230</td>\n",
       "      <td>0.011311</td>\n",
       "      <td>0.121759</td>\n",
       "    </tr>\n",
       "    <tr>\n",
       "      <th>639</th>\n",
       "      <td>20211231</td>\n",
       "      <td>0.013889</td>\n",
       "      <td>0.118456</td>\n",
       "    </tr>\n",
       "  </tbody>\n",
       "</table>\n",
       "<p>640 rows × 3 columns</p>\n",
       "</div>"
      ],
      "text/plain": [
       "     year_month_day  BENCHMARK_EPI  BENCHMARK_DELTA_T\n",
       "0          20200401      19.948933           0.683374\n",
       "1          20200402     321.780607           0.740721\n",
       "2          20200403     228.165407           0.530163\n",
       "3          20200404       0.000847           0.104082\n",
       "4          20200405       0.039588           0.124728\n",
       "..              ...            ...                ...\n",
       "635        20211227       0.000123           0.122020\n",
       "636        20211228       0.001224           0.123328\n",
       "637        20211229       0.000252           0.118200\n",
       "638        20211230       0.011311           0.121759\n",
       "639        20211231       0.013889           0.118456\n",
       "\n",
       "[640 rows x 3 columns]"
      ]
     },
     "execution_count": 26,
     "metadata": {},
     "output_type": "execute_result"
    }
   ],
   "source": [
    "data = pd.DataFrame(data={\n",
    "    \"year_month_day\": lst[\"year_month_day\"],\n",
    "    \"BENCHMARK_EPI\": 365 * lst[('total_energy_kWh', 'diff')]*24 / A,\n",
    "    \"BENCHMARK_DELTA_T\": lst[('BENCHMARK_DELTA_T', 'mean')]\n",
    "})\n",
    "\n",
    "data\n"
   ]
  },
  {
   "cell_type": "code",
   "execution_count": null,
   "metadata": {},
   "outputs": [
    {
     "data": {
      "application/vnd.plotly.v1+json": {
       "config": {
        "plotlyServerURL": "https://plot.ly"
       },
       "data": [
        {
         "hovertemplate": "index=%{x}<br>BENCHMARK_DELTA_T=%{y}<extra></extra>",
         "legendgroup": "",
         "line": {
          "color": "#636efa",
          "dash": "solid"
         },
         "marker": {
          "symbol": "circle"
         },
         "mode": "lines",
         "name": "",
         "orientation": "v",
         "showlegend": false,
         "type": "scatter",
         "x": {
          "bdata": "AAABAAIAAwAEAAUABgAHAAgACQAKAAsADAANAA4ADwAQABEAEgATABQAFQAWABcAGAAZABoAGwAcAB0AHgAfACAAIQAiACMAJAAlACYAJwAoACkAKgArACwALQAuAC8AMAAxADIAMwA0ADUANgA3ADgAOQA6ADsAPAA9AD4APwBAAEEAQgBDAEQARQBGAEcASABJAEoASwBMAE0ATgBPAFAAUQBSAFMAVABVAFYAVwBYAFkAWgBbAFwAXQBeAF8AYABhAGIAYwBkAGUAZgBnAGgAaQBqAGsAbABtAG4AbwBwAHEAcgBzAHQAdQB2AHcAeAB5AHoAewB8AH0AfgB/AIAAgQCCAIMAhACFAIYAhwCIAIkAigCLAIwAjQCOAI8AkACRAJIAkwCUAJUAlgCXAJgAmQCaAJsAnACdAJ4AnwCgAKEAogCjAKQApQCmAKcAqACpAKoAqwCsAK0ArgCvALAAsQCyALMAtAC1ALYAtwC4ALkAugC7ALwAvQC+AL8AwADBAMIAwwDEAMUAxgDHAMgAyQDKAMsAzADNAM4AzwDQANEA0gDTANQA1QDWANcA2ADZANoA2wDcAN0A3gDfAOAA4QDiAOMA5ADlAOYA5wDoAOkA6gDrAOwA7QDuAO8A8ADxAPIA8wD0APUA9gD3APgA+QD6APsA/AD9AP4A/wAAAQEBAgEDAQQBBQEGAQcBCAEJAQoBCwEMAQ0BDgEPARABEQESARMBFAEVARYBFwEYARkBGgEbARwBHQEeAR8BIAEhASIBIwEkASUBJgEnASgBKQEqASsBLAEtAS4BLwEwATEBMgEzATQBNQE2ATcBOAE5AToBOwE8AT0BPgE/AUABQQFCAUMBRAFFAUYBRwFIAUkBSgFLAUwBTQFOAU8BUAFRAVIBUwFUAVUBVgFXAVgBWQFaAVsBXAFdAV4BXwFgAWEBYgFjAWQBZQFmAWcBaAFpAWoBawFsAW0BbgFvAXABcQFyAXMBdAF1AXYBdwF4AXkBegF7AXwBfQF+AX8BgAGBAYIBgwGEAYUBhgGHAYgBiQGKAYsBjAGNAY4BjwGQAZEBkgGTAZQBlQGWAZcBmAGZAZoBmwGcAZ0BngGfAaABoQGiAaMBpAGlAaYBpwGoAakBqgGrAawBrQGuAa8BsAGxAbIBswG0AbUBtgG3AbgBuQG6AbsBvAG9Ab4BvwHAAcEBwgHDAcQBxQHGAccByAHJAcoBywHMAc0BzgHPAdAB0QHSAdMB1AHVAdYB1wHYAdkB2gHbAdwB3QHeAd8B4AHhAeIB4wHkAeUB5gHnAegB6QHqAesB7AHtAe4B7wHwAfEB8gHzAfQB9QH2AfcB+AH5AfoB+wH8Af0B/gH/AQACAQICAgMCBAIFAgYCBwIIAgkCCgILAgwCDQIOAg8CEAIRAhICEwIUAhUCFgIXAhgCGQIaAhsCHAIdAh4CHwIgAiECIgIjAiQCJQImAicCKAIpAioCKwIsAi0CLgIvAjACMQIyAjMCNAI1AjYCNwI4AjkCOgI7AjwCPQI+Aj8CQAJBAkICQwJEAkUCRgJHAkgCSQJKAksCTAJNAk4CTwJQAlECUgJTAlQCVQJWAlcCWAJZAloCWwJcAl0CXgJfAmACYQJiAmMCZAJlAmYCZwJoAmkCagJrAmwCbQJuAm8CcAJxAnICcwJ0AnUCdgJ3AngCeQJ6AnsCfAJ9An4CfwI=",
          "dtype": "i2"
         },
         "xaxis": "x",
         "y": {
          "bdata": "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",
          "dtype": "f8"
         },
         "yaxis": "y"
        }
       ],
       "layout": {
        "legend": {
         "tracegroupgap": 0
        },
        "template": {
         "data": {
          "bar": [
           {
            "error_x": {
             "color": "#2a3f5f"
            },
            "error_y": {
             "color": "#2a3f5f"
            },
            "marker": {
             "line": {
              "color": "#E5ECF6",
              "width": 0.5
             },
             "pattern": {
              "fillmode": "overlay",
              "size": 10,
              "solidity": 0.2
             }
            },
            "type": "bar"
           }
          ],
          "barpolar": [
           {
            "marker": {
             "line": {
              "color": "#E5ECF6",
              "width": 0.5
             },
             "pattern": {
              "fillmode": "overlay",
              "size": 10,
              "solidity": 0.2
             }
            },
            "type": "barpolar"
           }
          ],
          "carpet": [
           {
            "aaxis": {
             "endlinecolor": "#2a3f5f",
             "gridcolor": "white",
             "linecolor": "white",
             "minorgridcolor": "white",
             "startlinecolor": "#2a3f5f"
            },
            "baxis": {
             "endlinecolor": "#2a3f5f",
             "gridcolor": "white",
             "linecolor": "white",
             "minorgridcolor": "white",
             "startlinecolor": "#2a3f5f"
            },
            "type": "carpet"
           }
          ],
          "choropleth": [
           {
            "colorbar": {
             "outlinewidth": 0,
             "ticks": ""
            },
            "type": "choropleth"
           }
          ],
          "contour": [
           {
            "colorbar": {
             "outlinewidth": 0,
             "ticks": ""
            },
            "colorscale": [
             [
              0,
              "#0d0887"
             ],
             [
              0.1111111111111111,
              "#46039f"
             ],
             [
              0.2222222222222222,
              "#7201a8"
             ],
             [
              0.3333333333333333,
              "#9c179e"
             ],
             [
              0.4444444444444444,
              "#bd3786"
             ],
             [
              0.5555555555555556,
              "#d8576b"
             ],
             [
              0.6666666666666666,
              "#ed7953"
             ],
             [
              0.7777777777777778,
              "#fb9f3a"
             ],
             [
              0.8888888888888888,
              "#fdca26"
             ],
             [
              1,
              "#f0f921"
             ]
            ],
            "type": "contour"
           }
          ],
          "contourcarpet": [
           {
            "colorbar": {
             "outlinewidth": 0,
             "ticks": ""
            },
            "type": "contourcarpet"
           }
          ],
          "heatmap": [
           {
            "colorbar": {
             "outlinewidth": 0,
             "ticks": ""
            },
            "colorscale": [
             [
              0,
              "#0d0887"
             ],
             [
              0.1111111111111111,
              "#46039f"
             ],
             [
              0.2222222222222222,
              "#7201a8"
             ],
             [
              0.3333333333333333,
              "#9c179e"
             ],
             [
              0.4444444444444444,
              "#bd3786"
             ],
             [
              0.5555555555555556,
              "#d8576b"
             ],
             [
              0.6666666666666666,
              "#ed7953"
             ],
             [
              0.7777777777777778,
              "#fb9f3a"
             ],
             [
              0.8888888888888888,
              "#fdca26"
             ],
             [
              1,
              "#f0f921"
             ]
            ],
            "type": "heatmap"
           }
          ],
          "histogram": [
           {
            "marker": {
             "pattern": {
              "fillmode": "overlay",
              "size": 10,
              "solidity": 0.2
             }
            },
            "type": "histogram"
           }
          ],
          "histogram2d": [
           {
            "colorbar": {
             "outlinewidth": 0,
             "ticks": ""
            },
            "colorscale": [
             [
              0,
              "#0d0887"
             ],
             [
              0.1111111111111111,
              "#46039f"
             ],
             [
              0.2222222222222222,
              "#7201a8"
             ],
             [
              0.3333333333333333,
              "#9c179e"
             ],
             [
              0.4444444444444444,
              "#bd3786"
             ],
             [
              0.5555555555555556,
              "#d8576b"
             ],
             [
              0.6666666666666666,
              "#ed7953"
             ],
             [
              0.7777777777777778,
              "#fb9f3a"
             ],
             [
              0.8888888888888888,
              "#fdca26"
             ],
             [
              1,
              "#f0f921"
             ]
            ],
            "type": "histogram2d"
           }
          ],
          "histogram2dcontour": [
           {
            "colorbar": {
             "outlinewidth": 0,
             "ticks": ""
            },
            "colorscale": [
             [
              0,
              "#0d0887"
             ],
             [
              0.1111111111111111,
              "#46039f"
             ],
             [
              0.2222222222222222,
              "#7201a8"
             ],
             [
              0.3333333333333333,
              "#9c179e"
             ],
             [
              0.4444444444444444,
              "#bd3786"
             ],
             [
              0.5555555555555556,
              "#d8576b"
             ],
             [
              0.6666666666666666,
              "#ed7953"
             ],
             [
              0.7777777777777778,
              "#fb9f3a"
             ],
             [
              0.8888888888888888,
              "#fdca26"
             ],
             [
              1,
              "#f0f921"
             ]
            ],
            "type": "histogram2dcontour"
           }
          ],
          "mesh3d": [
           {
            "colorbar": {
             "outlinewidth": 0,
             "ticks": ""
            },
            "type": "mesh3d"
           }
          ],
          "parcoords": [
           {
            "line": {
             "colorbar": {
              "outlinewidth": 0,
              "ticks": ""
             }
            },
            "type": "parcoords"
           }
          ],
          "pie": [
           {
            "automargin": true,
            "type": "pie"
           }
          ],
          "scatter": [
           {
            "fillpattern": {
             "fillmode": "overlay",
             "size": 10,
             "solidity": 0.2
            },
            "type": "scatter"
           }
          ],
          "scatter3d": [
           {
            "line": {
             "colorbar": {
              "outlinewidth": 0,
              "ticks": ""
             }
            },
            "marker": {
             "colorbar": {
              "outlinewidth": 0,
              "ticks": ""
             }
            },
            "type": "scatter3d"
           }
          ],
          "scattercarpet": [
           {
            "marker": {
             "colorbar": {
              "outlinewidth": 0,
              "ticks": ""
             }
            },
            "type": "scattercarpet"
           }
          ],
          "scattergeo": [
           {
            "marker": {
             "colorbar": {
              "outlinewidth": 0,
              "ticks": ""
             }
            },
            "type": "scattergeo"
           }
          ],
          "scattergl": [
           {
            "marker": {
             "colorbar": {
              "outlinewidth": 0,
              "ticks": ""
             }
            },
            "type": "scattergl"
           }
          ],
          "scattermap": [
           {
            "marker": {
             "colorbar": {
              "outlinewidth": 0,
              "ticks": ""
             }
            },
            "type": "scattermap"
           }
          ],
          "scattermapbox": [
           {
            "marker": {
             "colorbar": {
              "outlinewidth": 0,
              "ticks": ""
             }
            },
            "type": "scattermapbox"
           }
          ],
          "scatterpolar": [
           {
            "marker": {
             "colorbar": {
              "outlinewidth": 0,
              "ticks": ""
             }
            },
            "type": "scatterpolar"
           }
          ],
          "scatterpolargl": [
           {
            "marker": {
             "colorbar": {
              "outlinewidth": 0,
              "ticks": ""
             }
            },
            "type": "scatterpolargl"
           }
          ],
          "scatterternary": [
           {
            "marker": {
             "colorbar": {
              "outlinewidth": 0,
              "ticks": ""
             }
            },
            "type": "scatterternary"
           }
          ],
          "surface": [
           {
            "colorbar": {
             "outlinewidth": 0,
             "ticks": ""
            },
            "colorscale": [
             [
              0,
              "#0d0887"
             ],
             [
              0.1111111111111111,
              "#46039f"
             ],
             [
              0.2222222222222222,
              "#7201a8"
             ],
             [
              0.3333333333333333,
              "#9c179e"
             ],
             [
              0.4444444444444444,
              "#bd3786"
             ],
             [
              0.5555555555555556,
              "#d8576b"
             ],
             [
              0.6666666666666666,
              "#ed7953"
             ],
             [
              0.7777777777777778,
              "#fb9f3a"
             ],
             [
              0.8888888888888888,
              "#fdca26"
             ],
             [
              1,
              "#f0f921"
             ]
            ],
            "type": "surface"
           }
          ],
          "table": [
           {
            "cells": {
             "fill": {
              "color": "#EBF0F8"
             },
             "line": {
              "color": "white"
             }
            },
            "header": {
             "fill": {
              "color": "#C8D4E3"
             },
             "line": {
              "color": "white"
             }
            },
            "type": "table"
           }
          ]
         },
         "layout": {
          "annotationdefaults": {
           "arrowcolor": "#2a3f5f",
           "arrowhead": 0,
           "arrowwidth": 1
          },
          "autotypenumbers": "strict",
          "coloraxis": {
           "colorbar": {
            "outlinewidth": 0,
            "ticks": ""
           }
          },
          "colorscale": {
           "diverging": [
            [
             0,
             "#8e0152"
            ],
            [
             0.1,
             "#c51b7d"
            ],
            [
             0.2,
             "#de77ae"
            ],
            [
             0.3,
             "#f1b6da"
            ],
            [
             0.4,
             "#fde0ef"
            ],
            [
             0.5,
             "#f7f7f7"
            ],
            [
             0.6,
             "#e6f5d0"
            ],
            [
             0.7,
             "#b8e186"
            ],
            [
             0.8,
             "#7fbc41"
            ],
            [
             0.9,
             "#4d9221"
            ],
            [
             1,
             "#276419"
            ]
           ],
           "sequential": [
            [
             0,
             "#0d0887"
            ],
            [
             0.1111111111111111,
             "#46039f"
            ],
            [
             0.2222222222222222,
             "#7201a8"
            ],
            [
             0.3333333333333333,
             "#9c179e"
            ],
            [
             0.4444444444444444,
             "#bd3786"
            ],
            [
             0.5555555555555556,
             "#d8576b"
            ],
            [
             0.6666666666666666,
             "#ed7953"
            ],
            [
             0.7777777777777778,
             "#fb9f3a"
            ],
            [
             0.8888888888888888,
             "#fdca26"
            ],
            [
             1,
             "#f0f921"
            ]
           ],
           "sequentialminus": [
            [
             0,
             "#0d0887"
            ],
            [
             0.1111111111111111,
             "#46039f"
            ],
            [
             0.2222222222222222,
             "#7201a8"
            ],
            [
             0.3333333333333333,
             "#9c179e"
            ],
            [
             0.4444444444444444,
             "#bd3786"
            ],
            [
             0.5555555555555556,
             "#d8576b"
            ],
            [
             0.6666666666666666,
             "#ed7953"
            ],
            [
             0.7777777777777778,
             "#fb9f3a"
            ],
            [
             0.8888888888888888,
             "#fdca26"
            ],
            [
             1,
             "#f0f921"
            ]
           ]
          },
          "colorway": [
           "#636efa",
           "#EF553B",
           "#00cc96",
           "#ab63fa",
           "#FFA15A",
           "#19d3f3",
           "#FF6692",
           "#B6E880",
           "#FF97FF",
           "#FECB52"
          ],
          "font": {
           "color": "#2a3f5f"
          },
          "geo": {
           "bgcolor": "white",
           "lakecolor": "white",
           "landcolor": "#E5ECF6",
           "showlakes": true,
           "showland": true,
           "subunitcolor": "white"
          },
          "hoverlabel": {
           "align": "left"
          },
          "hovermode": "closest",
          "mapbox": {
           "style": "light"
          },
          "paper_bgcolor": "white",
          "plot_bgcolor": "#E5ECF6",
          "polar": {
           "angularaxis": {
            "gridcolor": "white",
            "linecolor": "white",
            "ticks": ""
           },
           "bgcolor": "#E5ECF6",
           "radialaxis": {
            "gridcolor": "white",
            "linecolor": "white",
            "ticks": ""
           }
          },
          "scene": {
           "xaxis": {
            "backgroundcolor": "#E5ECF6",
            "gridcolor": "white",
            "gridwidth": 2,
            "linecolor": "white",
            "showbackground": true,
            "ticks": "",
            "zerolinecolor": "white"
           },
           "yaxis": {
            "backgroundcolor": "#E5ECF6",
            "gridcolor": "white",
            "gridwidth": 2,
            "linecolor": "white",
            "showbackground": true,
            "ticks": "",
            "zerolinecolor": "white"
           },
           "zaxis": {
            "backgroundcolor": "#E5ECF6",
            "gridcolor": "white",
            "gridwidth": 2,
            "linecolor": "white",
            "showbackground": true,
            "ticks": "",
            "zerolinecolor": "white"
           }
          },
          "shapedefaults": {
           "line": {
            "color": "#2a3f5f"
           }
          },
          "ternary": {
           "aaxis": {
            "gridcolor": "white",
            "linecolor": "white",
            "ticks": ""
           },
           "baxis": {
            "gridcolor": "white",
            "linecolor": "white",
            "ticks": ""
           },
           "bgcolor": "#E5ECF6",
           "caxis": {
            "gridcolor": "white",
            "linecolor": "white",
            "ticks": ""
           }
          },
          "title": {
           "x": 0.05
          },
          "xaxis": {
           "automargin": true,
           "gridcolor": "white",
           "linecolor": "white",
           "ticks": "",
           "title": {
            "standoff": 15
           },
           "zerolinecolor": "white",
           "zerolinewidth": 2
          },
          "yaxis": {
           "automargin": true,
           "gridcolor": "white",
           "linecolor": "white",
           "ticks": "",
           "title": {
            "standoff": 15
           },
           "zerolinecolor": "white",
           "zerolinewidth": 2
          }
         }
        },
        "title": {
         "text": "BENCHMARK_DELTA_T"
        },
        "xaxis": {
         "anchor": "y",
         "domain": [
          0,
          1
         ],
         "title": {
          "text": "index"
         }
        },
        "yaxis": {
         "anchor": "x",
         "domain": [
          0,
          1
         ],
         "title": {
          "text": "BENCHMARK_DELTA_T"
         }
        }
       }
      }
     },
     "metadata": {},
     "output_type": "display_data"
    }
   ],
   "source": [
    "import plotly.express as px\n",
    "px.line(data, y=\"BENCHMARK_DELTA_T\", title=\"BENCHMARK_DELTA_T\")"
   ]
  },
  {
   "cell_type": "code",
   "execution_count": 28,
   "metadata": {},
   "outputs": [
    {
     "data": {
      "application/vnd.plotly.v1+json": {
       "config": {
        "plotlyServerURL": "https://plot.ly"
       },
       "data": [
        {
         "hovertemplate": "index=%{x}<br>BENCHMARK_EPI=%{y}<extra></extra>",
         "legendgroup": "",
         "line": {
          "color": "#636efa",
          "dash": "solid"
         },
         "marker": {
          "symbol": "circle"
         },
         "mode": "lines",
         "name": "",
         "orientation": "v",
         "showlegend": false,
         "type": "scatter",
         "x": {
          "bdata": "AAABAAIAAwAEAAUABgAHAAgACQAKAAsADAANAA4ADwAQABEAEgATABQAFQAWABcAGAAZABoAGwAcAB0AHgAfACAAIQAiACMAJAAlACYAJwAoACkAKgArACwALQAuAC8AMAAxADIAMwA0ADUANgA3ADgAOQA6ADsAPAA9AD4APwBAAEEAQgBDAEQARQBGAEcASABJAEoASwBMAE0ATgBPAFAAUQBSAFMAVABVAFYAVwBYAFkAWgBbAFwAXQBeAF8AYABhAGIAYwBkAGUAZgBnAGgAaQBqAGsAbABtAG4AbwBwAHEAcgBzAHQAdQB2AHcAeAB5AHoAewB8AH0AfgB/AIAAgQCCAIMAhACFAIYAhwCIAIkAigCLAIwAjQCOAI8AkACRAJIAkwCUAJUAlgCXAJgAmQCaAJsAnACdAJ4AnwCgAKEAogCjAKQApQCmAKcAqACpAKoAqwCsAK0ArgCvALAAsQCyALMAtAC1ALYAtwC4ALkAugC7ALwAvQC+AL8AwADBAMIAwwDEAMUAxgDHAMgAyQDKAMsAzADNAM4AzwDQANEA0gDTANQA1QDWANcA2ADZANoA2wDcAN0A3gDfAOAA4QDiAOMA5ADlAOYA5wDoAOkA6gDrAOwA7QDuAO8A8ADxAPIA8wD0APUA9gD3APgA+QD6APsA/AD9AP4A/wAAAQEBAgEDAQQBBQEGAQcBCAEJAQoBCwEMAQ0BDgEPARABEQESARMBFAEVARYBFwEYARkBGgEbARwBHQEeAR8BIAEhASIBIwEkASUBJgEnASgBKQEqASsBLAEtAS4BLwEwATEBMgEzATQBNQE2ATcBOAE5AToBOwE8AT0BPgE/AUABQQFCAUMBRAFFAUYBRwFIAUkBSgFLAUwBTQFOAU8BUAFRAVIBUwFUAVUBVgFXAVgBWQFaAVsBXAFdAV4BXwFgAWEBYgFjAWQBZQFmAWcBaAFpAWoBawFsAW0BbgFvAXABcQFyAXMBdAF1AXYBdwF4AXkBegF7AXwBfQF+AX8BgAGBAYIBgwGEAYUBhgGHAYgBiQGKAYsBjAGNAY4BjwGQAZEBkgGTAZQBlQGWAZcBmAGZAZoBmwGcAZ0BngGfAaABoQGiAaMBpAGlAaYBpwGoAakBqgGrAawBrQGuAa8BsAGxAbIBswG0AbUBtgG3AbgBuQG6AbsBvAG9Ab4BvwHAAcEBwgHDAcQBxQHGAccByAHJAcoBywHMAc0BzgHPAdAB0QHSAdMB1AHVAdYB1wHYAdkB2gHbAdwB3QHeAd8B4AHhAeIB4wHkAeUB5gHnAegB6QHqAesB7AHtAe4B7wHwAfEB8gHzAfQB9QH2AfcB+AH5AfoB+wH8Af0B/gH/AQACAQICAgMCBAIFAgYCBwIIAgkCCgILAgwCDQIOAg8CEAIRAhICEwIUAhUCFgIXAhgCGQIaAhsCHAIdAh4CHwIgAiECIgIjAiQCJQImAicCKAIpAioCKwIsAi0CLgIvAjACMQIyAjMCNAI1AjYCNwI4AjkCOgI7AjwCPQI+Aj8CQAJBAkICQwJEAkUCRgJHAkgCSQJKAksCTAJNAk4CTwJQAlECUgJTAlQCVQJWAlcCWAJZAloCWwJcAl0CXgJfAmACYQJiAmMCZAJlAmYCZwJoAmkCagJrAmwCbQJuAm8CcAJxAnICcwJ0AnUCdgJ3AngCeQJ6AnsCfAJ9An4CfwI=",
          "dtype": "i2"
         },
         "xaxis": "x",
         "y": {
          "bdata": "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",
          "dtype": "f8"
         },
         "yaxis": "y"
        }
       ],
       "layout": {
        "legend": {
         "tracegroupgap": 0
        },
        "template": {
         "data": {
          "bar": [
           {
            "error_x": {
             "color": "#2a3f5f"
            },
            "error_y": {
             "color": "#2a3f5f"
            },
            "marker": {
             "line": {
              "color": "#E5ECF6",
              "width": 0.5
             },
             "pattern": {
              "fillmode": "overlay",
              "size": 10,
              "solidity": 0.2
             }
            },
            "type": "bar"
           }
          ],
          "barpolar": [
           {
            "marker": {
             "line": {
              "color": "#E5ECF6",
              "width": 0.5
             },
             "pattern": {
              "fillmode": "overlay",
              "size": 10,
              "solidity": 0.2
             }
            },
            "type": "barpolar"
           }
          ],
          "carpet": [
           {
            "aaxis": {
             "endlinecolor": "#2a3f5f",
             "gridcolor": "white",
             "linecolor": "white",
             "minorgridcolor": "white",
             "startlinecolor": "#2a3f5f"
            },
            "baxis": {
             "endlinecolor": "#2a3f5f",
             "gridcolor": "white",
             "linecolor": "white",
             "minorgridcolor": "white",
             "startlinecolor": "#2a3f5f"
            },
            "type": "carpet"
           }
          ],
          "choropleth": [
           {
            "colorbar": {
             "outlinewidth": 0,
             "ticks": ""
            },
            "type": "choropleth"
           }
          ],
          "contour": [
           {
            "colorbar": {
             "outlinewidth": 0,
             "ticks": ""
            },
            "colorscale": [
             [
              0,
              "#0d0887"
             ],
             [
              0.1111111111111111,
              "#46039f"
             ],
             [
              0.2222222222222222,
              "#7201a8"
             ],
             [
              0.3333333333333333,
              "#9c179e"
             ],
             [
              0.4444444444444444,
              "#bd3786"
             ],
             [
              0.5555555555555556,
              "#d8576b"
             ],
             [
              0.6666666666666666,
              "#ed7953"
             ],
             [
              0.7777777777777778,
              "#fb9f3a"
             ],
             [
              0.8888888888888888,
              "#fdca26"
             ],
             [
              1,
              "#f0f921"
             ]
            ],
            "type": "contour"
           }
          ],
          "contourcarpet": [
           {
            "colorbar": {
             "outlinewidth": 0,
             "ticks": ""
            },
            "type": "contourcarpet"
           }
          ],
          "heatmap": [
           {
            "colorbar": {
             "outlinewidth": 0,
             "ticks": ""
            },
            "colorscale": [
             [
              0,
              "#0d0887"
             ],
             [
              0.1111111111111111,
              "#46039f"
             ],
             [
              0.2222222222222222,
              "#7201a8"
             ],
             [
              0.3333333333333333,
              "#9c179e"
             ],
             [
              0.4444444444444444,
              "#bd3786"
             ],
             [
              0.5555555555555556,
              "#d8576b"
             ],
             [
              0.6666666666666666,
              "#ed7953"
             ],
             [
              0.7777777777777778,
              "#fb9f3a"
             ],
             [
              0.8888888888888888,
              "#fdca26"
             ],
             [
              1,
              "#f0f921"
             ]
            ],
            "type": "heatmap"
           }
          ],
          "histogram": [
           {
            "marker": {
             "pattern": {
              "fillmode": "overlay",
              "size": 10,
              "solidity": 0.2
             }
            },
            "type": "histogram"
           }
          ],
          "histogram2d": [
           {
            "colorbar": {
             "outlinewidth": 0,
             "ticks": ""
            },
            "colorscale": [
             [
              0,
              "#0d0887"
             ],
             [
              0.1111111111111111,
              "#46039f"
             ],
             [
              0.2222222222222222,
              "#7201a8"
             ],
             [
              0.3333333333333333,
              "#9c179e"
             ],
             [
              0.4444444444444444,
              "#bd3786"
             ],
             [
              0.5555555555555556,
              "#d8576b"
             ],
             [
              0.6666666666666666,
              "#ed7953"
             ],
             [
              0.7777777777777778,
              "#fb9f3a"
             ],
             [
              0.8888888888888888,
              "#fdca26"
             ],
             [
              1,
              "#f0f921"
             ]
            ],
            "type": "histogram2d"
           }
          ],
          "histogram2dcontour": [
           {
            "colorbar": {
             "outlinewidth": 0,
             "ticks": ""
            },
            "colorscale": [
             [
              0,
              "#0d0887"
             ],
             [
              0.1111111111111111,
              "#46039f"
             ],
             [
              0.2222222222222222,
              "#7201a8"
             ],
             [
              0.3333333333333333,
              "#9c179e"
             ],
             [
              0.4444444444444444,
              "#bd3786"
             ],
             [
              0.5555555555555556,
              "#d8576b"
             ],
             [
              0.6666666666666666,
              "#ed7953"
             ],
             [
              0.7777777777777778,
              "#fb9f3a"
             ],
             [
              0.8888888888888888,
              "#fdca26"
             ],
             [
              1,
              "#f0f921"
             ]
            ],
            "type": "histogram2dcontour"
           }
          ],
          "mesh3d": [
           {
            "colorbar": {
             "outlinewidth": 0,
             "ticks": ""
            },
            "type": "mesh3d"
           }
          ],
          "parcoords": [
           {
            "line": {
             "colorbar": {
              "outlinewidth": 0,
              "ticks": ""
             }
            },
            "type": "parcoords"
           }
          ],
          "pie": [
           {
            "automargin": true,
            "type": "pie"
           }
          ],
          "scatter": [
           {
            "fillpattern": {
             "fillmode": "overlay",
             "size": 10,
             "solidity": 0.2
            },
            "type": "scatter"
           }
          ],
          "scatter3d": [
           {
            "line": {
             "colorbar": {
              "outlinewidth": 0,
              "ticks": ""
             }
            },
            "marker": {
             "colorbar": {
              "outlinewidth": 0,
              "ticks": ""
             }
            },
            "type": "scatter3d"
           }
          ],
          "scattercarpet": [
           {
            "marker": {
             "colorbar": {
              "outlinewidth": 0,
              "ticks": ""
             }
            },
            "type": "scattercarpet"
           }
          ],
          "scattergeo": [
           {
            "marker": {
             "colorbar": {
              "outlinewidth": 0,
              "ticks": ""
             }
            },
            "type": "scattergeo"
           }
          ],
          "scattergl": [
           {
            "marker": {
             "colorbar": {
              "outlinewidth": 0,
              "ticks": ""
             }
            },
            "type": "scattergl"
           }
          ],
          "scattermap": [
           {
            "marker": {
             "colorbar": {
              "outlinewidth": 0,
              "ticks": ""
             }
            },
            "type": "scattermap"
           }
          ],
          "scattermapbox": [
           {
            "marker": {
             "colorbar": {
              "outlinewidth": 0,
              "ticks": ""
             }
            },
            "type": "scattermapbox"
           }
          ],
          "scatterpolar": [
           {
            "marker": {
             "colorbar": {
              "outlinewidth": 0,
              "ticks": ""
             }
            },
            "type": "scatterpolar"
           }
          ],
          "scatterpolargl": [
           {
            "marker": {
             "colorbar": {
              "outlinewidth": 0,
              "ticks": ""
             }
            },
            "type": "scatterpolargl"
           }
          ],
          "scatterternary": [
           {
            "marker": {
             "colorbar": {
              "outlinewidth": 0,
              "ticks": ""
             }
            },
            "type": "scatterternary"
           }
          ],
          "surface": [
           {
            "colorbar": {
             "outlinewidth": 0,
             "ticks": ""
            },
            "colorscale": [
             [
              0,
              "#0d0887"
             ],
             [
              0.1111111111111111,
              "#46039f"
             ],
             [
              0.2222222222222222,
              "#7201a8"
             ],
             [
              0.3333333333333333,
              "#9c179e"
             ],
             [
              0.4444444444444444,
              "#bd3786"
             ],
             [
              0.5555555555555556,
              "#d8576b"
             ],
             [
              0.6666666666666666,
              "#ed7953"
             ],
             [
              0.7777777777777778,
              "#fb9f3a"
             ],
             [
              0.8888888888888888,
              "#fdca26"
             ],
             [
              1,
              "#f0f921"
             ]
            ],
            "type": "surface"
           }
          ],
          "table": [
           {
            "cells": {
             "fill": {
              "color": "#EBF0F8"
             },
             "line": {
              "color": "white"
             }
            },
            "header": {
             "fill": {
              "color": "#C8D4E3"
             },
             "line": {
              "color": "white"
             }
            },
            "type": "table"
           }
          ]
         },
         "layout": {
          "annotationdefaults": {
           "arrowcolor": "#2a3f5f",
           "arrowhead": 0,
           "arrowwidth": 1
          },
          "autotypenumbers": "strict",
          "coloraxis": {
           "colorbar": {
            "outlinewidth": 0,
            "ticks": ""
           }
          },
          "colorscale": {
           "diverging": [
            [
             0,
             "#8e0152"
            ],
            [
             0.1,
             "#c51b7d"
            ],
            [
             0.2,
             "#de77ae"
            ],
            [
             0.3,
             "#f1b6da"
            ],
            [
             0.4,
             "#fde0ef"
            ],
            [
             0.5,
             "#f7f7f7"
            ],
            [
             0.6,
             "#e6f5d0"
            ],
            [
             0.7,
             "#b8e186"
            ],
            [
             0.8,
             "#7fbc41"
            ],
            [
             0.9,
             "#4d9221"
            ],
            [
             1,
             "#276419"
            ]
           ],
           "sequential": [
            [
             0,
             "#0d0887"
            ],
            [
             0.1111111111111111,
             "#46039f"
            ],
            [
             0.2222222222222222,
             "#7201a8"
            ],
            [
             0.3333333333333333,
             "#9c179e"
            ],
            [
             0.4444444444444444,
             "#bd3786"
            ],
            [
             0.5555555555555556,
             "#d8576b"
            ],
            [
             0.6666666666666666,
             "#ed7953"
            ],
            [
             0.7777777777777778,
             "#fb9f3a"
            ],
            [
             0.8888888888888888,
             "#fdca26"
            ],
            [
             1,
             "#f0f921"
            ]
           ],
           "sequentialminus": [
            [
             0,
             "#0d0887"
            ],
            [
             0.1111111111111111,
             "#46039f"
            ],
            [
             0.2222222222222222,
             "#7201a8"
            ],
            [
             0.3333333333333333,
             "#9c179e"
            ],
            [
             0.4444444444444444,
             "#bd3786"
            ],
            [
             0.5555555555555556,
             "#d8576b"
            ],
            [
             0.6666666666666666,
             "#ed7953"
            ],
            [
             0.7777777777777778,
             "#fb9f3a"
            ],
            [
             0.8888888888888888,
             "#fdca26"
            ],
            [
             1,
             "#f0f921"
            ]
           ]
          },
          "colorway": [
           "#636efa",
           "#EF553B",
           "#00cc96",
           "#ab63fa",
           "#FFA15A",
           "#19d3f3",
           "#FF6692",
           "#B6E880",
           "#FF97FF",
           "#FECB52"
          ],
          "font": {
           "color": "#2a3f5f"
          },
          "geo": {
           "bgcolor": "white",
           "lakecolor": "white",
           "landcolor": "#E5ECF6",
           "showlakes": true,
           "showland": true,
           "subunitcolor": "white"
          },
          "hoverlabel": {
           "align": "left"
          },
          "hovermode": "closest",
          "mapbox": {
           "style": "light"
          },
          "paper_bgcolor": "white",
          "plot_bgcolor": "#E5ECF6",
          "polar": {
           "angularaxis": {
            "gridcolor": "white",
            "linecolor": "white",
            "ticks": ""
           },
           "bgcolor": "#E5ECF6",
           "radialaxis": {
            "gridcolor": "white",
            "linecolor": "white",
            "ticks": ""
           }
          },
          "scene": {
           "xaxis": {
            "backgroundcolor": "#E5ECF6",
            "gridcolor": "white",
            "gridwidth": 2,
            "linecolor": "white",
            "showbackground": true,
            "ticks": "",
            "zerolinecolor": "white"
           },
           "yaxis": {
            "backgroundcolor": "#E5ECF6",
            "gridcolor": "white",
            "gridwidth": 2,
            "linecolor": "white",
            "showbackground": true,
            "ticks": "",
            "zerolinecolor": "white"
           },
           "zaxis": {
            "backgroundcolor": "#E5ECF6",
            "gridcolor": "white",
            "gridwidth": 2,
            "linecolor": "white",
            "showbackground": true,
            "ticks": "",
            "zerolinecolor": "white"
           }
          },
          "shapedefaults": {
           "line": {
            "color": "#2a3f5f"
           }
          },
          "ternary": {
           "aaxis": {
            "gridcolor": "white",
            "linecolor": "white",
            "ticks": ""
           },
           "baxis": {
            "gridcolor": "white",
            "linecolor": "white",
            "ticks": ""
           },
           "bgcolor": "#E5ECF6",
           "caxis": {
            "gridcolor": "white",
            "linecolor": "white",
            "ticks": ""
           }
          },
          "title": {
           "x": 0.05
          },
          "xaxis": {
           "automargin": true,
           "gridcolor": "white",
           "linecolor": "white",
           "ticks": "",
           "title": {
            "standoff": 15
           },
           "zerolinecolor": "white",
           "zerolinewidth": 2
          },
          "yaxis": {
           "automargin": true,
           "gridcolor": "white",
           "linecolor": "white",
           "ticks": "",
           "title": {
            "standoff": 15
           },
           "zerolinecolor": "white",
           "zerolinewidth": 2
          }
         }
        },
        "title": {
         "text": "BENCHMARK_EPI"
        },
        "xaxis": {
         "anchor": "y",
         "domain": [
          0,
          1
         ],
         "title": {
          "text": "index"
         }
        },
        "yaxis": {
         "anchor": "x",
         "domain": [
          0,
          1
         ],
         "title": {
          "text": "BENCHMARK_EPI"
         }
        }
       }
      }
     },
     "metadata": {},
     "output_type": "display_data"
    }
   ],
   "source": [
    "px.line(data, y=\"BENCHMARK_EPI\", title=\"BENCHMARK_EPI\")"
   ]
  },
  {
   "cell_type": "code",
   "execution_count": null,
   "metadata": {},
   "outputs": [],
   "source": [
    "px.line(data, y=\"BENCHMARK_EPI\", title=\"BENCHMARK_EPI\")"
   ]
  }
 ],
 "metadata": {
  "kernelspec": {
   "display_name": "Python 3",
   "language": "python",
   "name": "python3"
  },
  "language_info": {
   "codemirror_mode": {
    "name": "ipython",
    "version": 3
   },
   "file_extension": ".py",
   "mimetype": "text/x-python",
   "name": "python",
   "nbconvert_exporter": "python",
   "pygments_lexer": "ipython3",
   "version": "3.12.2"
  }
 },
 "nbformat": 4,
 "nbformat_minor": 2
}
